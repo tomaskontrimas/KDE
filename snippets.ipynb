{
 "cells": [
  {
   "cell_type": "markdown",
   "metadata": {},
   "source": [
    "## Get bandwidth from cv part files"
   ]
  },
  {
   "cell_type": "code",
   "execution_count": 1,
   "metadata": {},
   "outputs": [
    {
     "name": "stdout",
     "output_type": "stream",
     "text": [
      "Welcome to JupyROOT 6.14/04\n"
     ]
    }
   ],
   "source": [
    "#%matplotlib notebook\n",
    "\n",
    "import cPickle as pickle\n",
    "import glob\n",
    "import itertools\n",
    "import matplotlib.pyplot as plt\n",
    "import numpy as np\n",
    "import os.path\n",
    "from matplotlib import ticker\n",
    "\n",
    "from kde_classes import Model, KDE"
   ]
  },
  {
   "cell_type": "code",
   "execution_count": 3,
   "metadata": {
    "scrolled": false
   },
   "outputs": [
    {
     "name": "stdout",
     "output_type": "stream",
     "text": [
      "Gamma: 1.5; CV: [([0.17, 0.42, 0.6 ], -1.9458729, 0.)]\n",
      "Gamma: 2.0; CV: [([0.13, 0.34, 0.26], -1.7132763, 0.)]\n",
      "Gamma: 2.1; CV: [([0.11, 0.32, 0.3 ], -1.6474864, 0.)]\n",
      "Gamma: 2.2; CV: [([0.16, 0.24, 0.31], -1.588302, 0.)]\n",
      "Gamma: 2.3; CV: [([0.12, 0.28, 0.3 ], -1.5319114, 0.)]\n",
      "Gamma: 2.4; CV: [([0.13, 0.28, 0.21], -1.4740968, 0.)]\n",
      "Gamma: 2.5; CV: [([0.14, 0.26, 0.17], -1.4158982, 0.)]\n",
      "Gamma: 2.6; CV: [([0.14, 0.26, 0.17], -1.3592956, 0.)]\n",
      "Gamma: 2.7; CV: [([0.12, 0.26, 0.15], -1.3043567, 0.)]\n",
      "Gamma: 2.8; CV: [([0.15, 0.26, 0.13], -1.252952, 0.)]\n",
      "Gamma: 2.9; CV: [([0.15, 0.22, 0.13], -1.2037599, 0.)]\n",
      "Gamma: 3.0; CV: [([0.13, 0.24, 0.07], -1.1574348, 0.)]\n"
     ]
    }
   ],
   "source": [
    "#gammas = np.linspace(2.0, 3.0, 11)\n",
    "gammas = np.concatenate(([1.5], np.linspace(2.0, 3.0, 11)))\n",
    "#gammas = [3.0]\n",
    "module = 'sig_psi_E'\n",
    "model = Model(module, mc=None, weighting='plotter_wkde')\n",
    "kde = KDE(model)\n",
    "\n",
    "for gamma in gammas:\n",
    "    cv_files = glob.glob('output/{module}/adaptive_kd_plotter_wkde_gamma_{gamma}_phi0_1.0/cv/cv_*.npy'.format(module=module, gamma=gamma))\n",
    "    #cv_files = glob.glob('output/sig_psi_E/old/adaptive/cv/cv_*.npy')\n",
    "\n",
    "    cv_results_split = np.array([], dtype=kde.cv_result_dtype)\n",
    "    #cv_results_split = np.array([], dtype=np.load(cv_files[0]).dtype)\n",
    "\n",
    "    for cv_file in cv_files:\n",
    "        cv_result_split = np.load(cv_file)\n",
    "        #print(cv_result_split)\n",
    "        cv_results_split = np.append(cv_results_split, cv_result_split)\n",
    "\n",
    "    # Gather splitted cv results by calculating average values.\n",
    "    arr, unique_index = np.unique(cv_results_split['bandwidth'], return_index=True,\n",
    "                                  axis=0)\n",
    "    cv_results = cv_results_split[unique_index]\n",
    "    for i, cv_result in enumerate(cv_results):\n",
    "        matches = cv_results_split[np.all(\n",
    "            cv_results_split['bandwidth'] == cv_result['bandwidth'], axis=1)]\n",
    "        cv_results['LLH'][i] = np.average(matches['LLH'])\n",
    "        cv_results['Zeros'][i] = np.average(matches['Zeros'])\n",
    "    # cv_results = cv_results_split\n",
    "    cv_results_max_LLH = cv_results[cv_results['LLH'] == np.max(cv_results['LLH'])]\n",
    "    print(\"Gamma: {}; CV: {}\".format(gamma, cv_results_max_LLH))\n",
    "    bandwidth = cv_results_max_LLH['bandwidth'][0]\n",
    "\n",
    "#     plt.figure(dpi=150)\n",
    "#     plt.tricontourf(cv_results['bandwidth'][:, 0], cv_results['bandwidth'][:, 1],\n",
    "#                     cv_results['LLH'], 50)\n",
    "#     plt.colorbar()\n",
    "#     plt.scatter(bandwidth[0], bandwidth[1], marker='x', label=bandwidth)\n",
    "#     plt.title('$\\gamma$={}'.format(gamma))\n",
    "#     plt.xlabel('bw of sigma_pull_corrected')\n",
    "#     plt.ylabel('bw of psi')\n",
    "#     plt.legend()\n",
    "    \n",
    "#     plt.figure(dpi=150)\n",
    "#     plt.tricontourf(cv_results['bandwidth'][:, 1], cv_results['bandwidth'][:, 2],\n",
    "#                     cv_results['LLH'], 50)\n",
    "#     plt.colorbar()\n",
    "#     plt.scatter(bandwidth[1], bandwidth[2], marker='x', label=bandwidth)\n",
    "#     plt.title('$\\gamma$={}'.format(gamma))\n",
    "#     plt.xlabel('bw of psi')\n",
    "#     plt.ylabel('bw of log_e')\n",
    "#     plt.legend()\n",
    "    \n",
    "#     plt.figure(dpi=150)\n",
    "#     plt.tricontourf(cv_results['bandwidth'][:, 0], cv_results['bandwidth'][:, 2],\n",
    "#                     cv_results['LLH'], 50)\n",
    "#     plt.colorbar()\n",
    "#     plt.scatter(bandwidth[0], bandwidth[2], marker='x', label=bandwidth)\n",
    "#     plt.title('$\\gamma$={}'.format(gamma))\n",
    "#     plt.xlabel('bw of sigma_pull_corrected')\n",
    "#     plt.ylabel('bw of log_e')\n",
    "#     plt.legend()\n",
    "\n",
    "#     plt.figure(dpi=150)\n",
    "#     plt.plot(cv_results['bandwidth'][:, 1], cv_results['LLH'])\n",
    "#     plt.title('$\\gamma$={}'.format(gamma))\n",
    "#     plt.xlabel('bw of psi')\n",
    "#     plt.ylabel('LLH')"
   ]
  },
  {
   "cell_type": "code",
   "execution_count": null,
   "metadata": {
    "scrolled": true
   },
   "outputs": [],
   "source": [
    "#np.set_printoptions(threshold=np.inf)\n",
    "print(cv_results['LLH'][cv_results['bandwidth'][:, 2] == 0.2])\n",
    "# print(cv_results_max_LLH)\n",
    "# bandwidth = cv_results_max_LLH['bandwidth']"
   ]
  },
  {
   "cell_type": "code",
   "execution_count": null,
   "metadata": {
    "scrolled": false
   },
   "outputs": [],
   "source": [
    "for bw in np.unique(cv_results['bandwidth'][:, 2]):\n",
    "    print(bw)\n",
    "    print(cv_results[cv_results['bandwidth'][:, 2] == bw])\n",
    "    print(np.unique(cv_results['bandwidth'][:, 0][cv_results['bandwidth'][:, 2] == bw]))\n",
    "    if len(np.unique(cv_results['bandwidth'][:, 0][cv_results['bandwidth'][:, 2] == bw])) != 1 and\\\n",
    "            len(np.unique(cv_results['bandwidth'][:, 1][cv_results['bandwidth'][:, 2] == bw])) != 1:\n",
    "        plt.figure(dpi=150)\n",
    "        plt.tricontourf(cv_results['bandwidth'][cv_results['bandwidth'][:, 2] == bw][:, 0],\n",
    "                        cv_results['bandwidth'][cv_results['bandwidth'][:, 2] == bw][:, 1],\n",
    "                        cv_results['LLH'][cv_results['bandwidth'][:, 2] == bw],\n",
    "                        50)\n",
    "        plt.colorbar()\n",
    "        # plt.scatter(bandwidth[1], bandwidth[2], marker='x', label=bandwidth)\n",
    "        plt.title('$\\gamma$={}, bw of log_e={:.2f}'.format(gamma, bw))\n",
    "        plt.xlabel('bw of sigma_pull_corrected')\n",
    "        plt.ylabel('bw of psi')\n",
    "        #plt.legend()\n"
   ]
  },
  {
   "cell_type": "code",
   "execution_count": null,
   "metadata": {},
   "outputs": [],
   "source": []
  },
  {
   "cell_type": "code",
   "execution_count": null,
   "metadata": {},
   "outputs": [],
   "source": []
  },
  {
   "cell_type": "code",
   "execution_count": null,
   "metadata": {},
   "outputs": [],
   "source": []
  },
  {
   "cell_type": "code",
   "execution_count": null,
   "metadata": {},
   "outputs": [],
   "source": [
    "plt.figure(dpi=150)\n",
    "plt.plot(cv_results['bandwidth'][:, 1], cv_results['LLH'])\n",
    "plt.title('$\\gamma$={}'.format(gamma))\n",
    "plt.xlabel('bw of psi')\n",
    "plt.ylabel('LLH')"
   ]
  },
  {
   "cell_type": "markdown",
   "metadata": {},
   "source": [
    "## Plot contours of CV"
   ]
  },
  {
   "cell_type": "code",
   "execution_count": null,
   "metadata": {
    "scrolled": false
   },
   "outputs": [],
   "source": [
    "plt.figure(dpi=150)\n",
    "plt.tricontourf(cv_results['bandwidth'][:, 0], cv_results['bandwidth'][:, 1],\n",
    "                cv_results['LLH'], 50)\n",
    "plt.colorbar()\n",
    "plt.scatter(bandwidth[0], bandwidth[1], marker='x', label=bandwidth)\n",
    "plt.legend()\n",
    "plt.title('$\\gamma$={}'.format(gamma))\n",
    "plt.xlabel('bw of log(sigma_pull_corrected)')\n",
    "plt.ylabel('bw of log_e')"
   ]
  },
  {
   "cell_type": "code",
   "execution_count": null,
   "metadata": {},
   "outputs": [],
   "source": [
    "from scipy.interpolate import griddata\n",
    "\n",
    "x = cv_results['bandwidth'][:, 0]\n",
    "y = cv_results['bandwidth'][:, 1]\n",
    "z =  cv_results['LLH']\n",
    "\n",
    "xi = np.unique(x)\n",
    "yi = np.unique(y)\n",
    "zi = griddata((x, y), z, (xi[None,:], yi[:,None]), method='linear')\n",
    "\n",
    "plt.figure(dpi=150)\n",
    "plt.contourf(xi, yi, zi, 20)\n",
    "plt.colorbar()\n",
    "plt.scatter(bandwidth[0], bandwidth[1], marker='x', label=bandwidth)\n",
    "plt.legend()"
   ]
  },
  {
   "cell_type": "code",
   "execution_count": null,
   "metadata": {},
   "outputs": [],
   "source": []
  },
  {
   "cell_type": "code",
   "execution_count": null,
   "metadata": {},
   "outputs": [],
   "source": []
  },
  {
   "cell_type": "code",
   "execution_count": null,
   "metadata": {},
   "outputs": [],
   "source": []
  },
  {
   "cell_type": "code",
   "execution_count": null,
   "metadata": {},
   "outputs": [],
   "source": []
  },
  {
   "cell_type": "code",
   "execution_count": null,
   "metadata": {},
   "outputs": [],
   "source": []
  },
  {
   "cell_type": "markdown",
   "metadata": {},
   "source": [
    "## dataset_8yr_fit_IC86_2012_16_MC_2017_09_29_more_fields names"
   ]
  },
  {
   "cell_type": "code",
   "execution_count": null,
   "metadata": {},
   "outputs": [],
   "source": [
    "mc = np.load('/home/ge56lag/Data/dataset_8yr_fit_IC86_2012_16_MC_2017_09_29_more_fields.npy')\n",
    "mc.dtype.names"
   ]
  },
  {
   "cell_type": "code",
   "execution_count": null,
   "metadata": {},
   "outputs": [],
   "source": []
  },
  {
   "cell_type": "code",
   "execution_count": null,
   "metadata": {},
   "outputs": [],
   "source": []
  },
  {
   "cell_type": "code",
   "execution_count": null,
   "metadata": {},
   "outputs": [],
   "source": [
    "np.linspace(0.01, 0.25, 5)"
   ]
  },
  {
   "cell_type": "code",
   "execution_count": null,
   "metadata": {},
   "outputs": [],
   "source": [
    "np.geomspace(0.01, 0.25, 5)"
   ]
  },
  {
   "cell_type": "code",
   "execution_count": null,
   "metadata": {},
   "outputs": [],
   "source": []
  },
  {
   "cell_type": "code",
   "execution_count": null,
   "metadata": {},
   "outputs": [],
   "source": [
    "import cPickle as pickle\n",
    "import glob\n",
    "import itertools\n",
    "import numpy as np\n",
    "import os.path\n",
    "\n",
    "from kde_classes import Model, KDE\n",
    "\n",
    "model = Model('dec', mc=None, weighting=None)\n",
    "kde = KDE(model)\n",
    "\n",
    "cv_files = glob.glob('output/dec/temp/cv_*.npy')\n",
    "cv_results_split = np.array([], dtype=kde.cv_result_dtype)\n",
    "#cv_results = np.array([], dtype=kde.cv_result_dtype)\n",
    "\n",
    "for cv_file in cv_files:\n",
    "    cv_result_split = np.load(cv_file)\n",
    "    cv_results_split = np.append(cv_results_split, cv_result_split)\n",
    "\n",
    "# Gather splitted cv results by calculating average values.\n",
    "arr, unique_index = np.unique(cv_results_split['bandwidth'], return_index=True,\n",
    "                              axis=0)\n",
    "cv_results = cv_results_split[unique_index]\n",
    "for i, cv_result in enumerate(cv_results):\n",
    "    matches = cv_results_split[np.all(\n",
    "        cv_results_split['bandwidth'] == cv_result['bandwidth'], axis=1)]\n",
    "    cv_results['LLH'][i] = np.average(matches['LLH'])\n",
    "    cv_results['Zeros'][i] = np.average(matches['Zeros'])\n",
    "\n",
    "cv_results_max_LLH = cv_results[cv_results['LLH'] == np.max(cv_results['LLH'])]\n",
    "\n",
    "print(cv_results_max_LLH)\n",
    "#bandwidth = [cv_results_max_LLH[key] for key in model.bandwidth_vars]\n"
   ]
  },
  {
   "cell_type": "code",
   "execution_count": null,
   "metadata": {},
   "outputs": [],
   "source": [
    "cv_results_split"
   ]
  },
  {
   "cell_type": "code",
   "execution_count": null,
   "metadata": {},
   "outputs": [],
   "source": [
    "cv_results"
   ]
  }
 ],
 "metadata": {
  "kernelspec": {
   "display_name": "Python 2",
   "language": "python",
   "name": "python2"
  },
  "language_info": {
   "codemirror_mode": {
    "name": "ipython",
    "version": 2
   },
   "file_extension": ".py",
   "mimetype": "text/x-python",
   "name": "python",
   "nbconvert_exporter": "python",
   "pygments_lexer": "ipython2",
   "version": "2.7.5"
  }
 },
 "nbformat": 4,
 "nbformat_minor": 2
}
