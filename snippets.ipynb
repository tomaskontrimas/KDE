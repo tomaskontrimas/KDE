{
 "cells": [
  {
   "cell_type": "markdown",
   "metadata": {},
   "source": [
    "## Get bandwidth from cv part files"
   ]
  },
  {
   "cell_type": "code",
   "execution_count": null,
   "metadata": {},
   "outputs": [],
   "source": [
    "#%matplotlib notebook\n",
    "\n",
    "import glob\n",
    "import matplotlib.pyplot as plt\n",
    "import numpy as np\n",
    "import os.path\n",
    "\n",
    "from kde_classes import Model, KDE"
   ]
  },
  {
   "cell_type": "code",
   "execution_count": null,
   "metadata": {
    "scrolled": false
   },
   "outputs": [],
   "source": [
    "gammas = np.concatenate(([1.5], np.linspace(2.0, 3.0, 11)))\n",
    "# gammas = [1.5]\n",
    "module = 'sig_psi_E'\n",
    "model = Model(module, mc=None, weighting='plotter_wkde')\n",
    "kde = KDE(model)\n",
    "\n",
    "for gamma in gammas:\n",
    "    cv_files = glob.glob('output/{module}/adaptive_kd_plotter_wkde_gamma_{gamma}_phi0_1.0/cv/cv_*.npy'.format(module=module, gamma=gamma))\n",
    "\n",
    "    cv_results_split = np.array([], dtype=kde.cv_result_dtype)\n",
    "\n",
    "    for cv_file in cv_files:\n",
    "        cv_result_split = np.load(cv_file)\n",
    "        cv_results_split = np.append(cv_results_split, cv_result_split)\n",
    "\n",
    "    # Gather splitted cv results by calculating average values.\n",
    "    arr, unique_index = np.unique(cv_results_split['bandwidth'], return_index=True,\n",
    "                                  axis=0)\n",
    "    cv_results = cv_results_split[unique_index]\n",
    "    for i, cv_result in enumerate(cv_results):\n",
    "        matches = cv_results_split[np.all(\n",
    "            cv_results_split['bandwidth'] == cv_result['bandwidth'], axis=1)]\n",
    "        cv_results['LLH'][i] = np.average(matches['LLH'])\n",
    "        cv_results['Zeros'][i] = np.average(matches['Zeros'])\n",
    "    cv_results_max_LLH = cv_results[cv_results['LLH'] == np.max(cv_results['LLH'])]\n",
    "    print(\"Gamma: {}; CV: {}\".format(gamma, cv_results_max_LLH))\n",
    "    bandwidth = cv_results_max_LLH['bandwidth'][0]\n",
    "\n",
    "    \n",
    "    # 3D KDE plots\n",
    "    fig, ax = plt.subplots(2, 3, figsize=(15, 10))\n",
    "    plt.suptitle('$\\gamma={}$'.format(gamma))\n",
    "\n",
    "    tcf0 = ax[0, 0].tricontourf(cv_results['bandwidth'][:, 0], cv_results['bandwidth'][:, 1],\n",
    "                    cv_results['LLH'], 50)\n",
    "    fig.colorbar(tcf0, ax=ax[0, 0])\n",
    "    ax[0, 0].scatter(bandwidth[0], bandwidth[1], marker='x', label=bandwidth)\n",
    "    ax[0, 0].set_xlabel('bw of sigma_pull_corrected')\n",
    "    ax[0, 0].set_ylabel('bw of psi')\n",
    "    ax[0, 0].legend()\n",
    "    \n",
    "    tcf1 = ax[0, 1].tricontourf(cv_results['bandwidth'][:, 1], cv_results['bandwidth'][:, 2],\n",
    "                    cv_results['LLH'], 50)\n",
    "    fig.colorbar(tcf1, ax=ax[0, 1])\n",
    "    ax[0, 1].scatter(bandwidth[1], bandwidth[2], marker='x', label=bandwidth)\n",
    "    ax[0, 1].set_xlabel('bw of psi')\n",
    "    ax[0, 1].set_ylabel('bw of log_e')\n",
    "    ax[0, 1].legend()\n",
    "    \n",
    "    tcf2 = ax[0, 2].tricontourf(cv_results['bandwidth'][:, 2], cv_results['bandwidth'][:, 0],\n",
    "                    cv_results['LLH'], 50)\n",
    "    fig.colorbar(tcf2, ax=ax[0, 2])\n",
    "    ax[0, 2].scatter(bandwidth[2], bandwidth[0], marker='x', label=bandwidth)\n",
    "    ax[0, 2].set_xlabel('bw of log_e')\n",
    "    ax[0, 2].set_ylabel('bw of sigma_pull_corrected')\n",
    "    ax[0, 2].legend()\n",
    "    \n",
    "    tcf3 = ax[1, 0].tricontourf(cv_results['bandwidth'][:, 0], cv_results['bandwidth'][:, 2],\n",
    "                    cv_results['LLH'], 50)\n",
    "    fig.colorbar(tcf0, ax=ax[1, 0])\n",
    "    ax[1, 0].scatter(bandwidth[0], bandwidth[2], marker='x', label=bandwidth)\n",
    "    ax[1, 0].set_xlabel('bw of sigma_pull_corrected')\n",
    "    ax[1, 0].set_ylabel('bw of log_e')\n",
    "    ax[1, 0].legend()\n",
    "    \n",
    "    tcf4 = ax[1, 1].tricontourf(cv_results['bandwidth'][:, 1], cv_results['bandwidth'][:, 0],\n",
    "                    cv_results['LLH'], 50)\n",
    "    fig.colorbar(tcf1, ax=ax[1, 1])\n",
    "    ax[1, 1].scatter(bandwidth[1], bandwidth[0], marker='x', label=bandwidth)\n",
    "    ax[1, 1].set_xlabel('bw of psi')\n",
    "    ax[1, 1].set_ylabel('bw of sigma_pull_corrected')\n",
    "    ax[1, 1].legend()\n",
    "    \n",
    "    tcf5 = ax[1, 2].tricontourf(cv_results['bandwidth'][:, 2], cv_results['bandwidth'][:, 1],\n",
    "                    cv_results['LLH'], 50)\n",
    "    fig.colorbar(tcf2, ax=ax[1, 2])\n",
    "    ax[1, 2].scatter(bandwidth[2], bandwidth[1], marker='x', label=bandwidth)\n",
    "    ax[1, 2].set_xlabel('bw of log_e')\n",
    "    ax[1, 2].set_ylabel('bw of psi')\n",
    "    ax[1, 2].legend()\n",
    "    \n",
    "    plt.tight_layout()\n",
    "    plt.subplots_adjust(top=0.90)\n",
    "\n",
    "\n",
    "    ind_0 = np.logical_and(cv_results['bandwidth'][:, 1] == cv_results_max_LLH['bandwidth'][:, 1],\n",
    "                       cv_results['bandwidth'][:, 2] == cv_results_max_LLH['bandwidth'][:, 2])\n",
    "\n",
    "    ind_1 = np.logical_and(cv_results['bandwidth'][:, 0] == cv_results_max_LLH['bandwidth'][:, 0],\n",
    "                       cv_results['bandwidth'][:, 2] == cv_results_max_LLH['bandwidth'][:, 2])\n",
    "    \n",
    "    ind_2 = np.logical_and(cv_results['bandwidth'][:, 0] == cv_results_max_LLH['bandwidth'][:, 0],\n",
    "                       cv_results['bandwidth'][:, 1] == cv_results_max_LLH['bandwidth'][:, 1])\n",
    "\n",
    "    fig, ax = plt.subplots(1, 3, figsize=(15, 5))\n",
    "    plt.suptitle('$\\gamma={}$'.format(gamma))\n",
    "    \n",
    "    ax[0].plot(cv_results['bandwidth'][:, 0][ind_0], cv_results['LLH'][ind_0])\n",
    "    ax[0].set_title('bw={}'.format(cv_results_max_LLH['bandwidth'][:, 0][0]))\n",
    "    ax[0].set_xlabel('bw of sigma_pull_corrected')\n",
    "    ax[0].set_ylabel('LLH')\n",
    "    \n",
    "    ax[1].plot(cv_results['bandwidth'][:, 1][ind_1], cv_results['LLH'][ind_1])\n",
    "    ax[1].set_title('bw={}'.format(cv_results_max_LLH['bandwidth'][:, 1][0]))\n",
    "    ax[1].set_xlabel('bw of psi')\n",
    "    ax[1].set_ylabel('LLH')\n",
    "    \n",
    "    ax[2].plot(cv_results['bandwidth'][:, 2][ind_2], cv_results['LLH'][ind_2])\n",
    "    ax[2].set_title('bw={}'.format(cv_results_max_LLH['bandwidth'][:, 2][0]))\n",
    "    ax[2].set_xlabel('bw of log_e')\n",
    "    ax[2].set_ylabel('LLH')\n",
    "    plt.tight_layout()\n",
    "    plt.subplots_adjust(top=0.85)\n",
    "\n",
    "\n",
    "#     # 2D KDE plots\n",
    "#     plt.figure(dpi=150)\n",
    "#     plt.tricontourf(cv_results['bandwidth'][:, 0], cv_results['bandwidth'][:, 1],\n",
    "#                     cv_results['LLH'], 50)\n",
    "#     plt.colorbar()\n",
    "#     plt.scatter(bandwidth[0], bandwidth[1], marker='x', label=bandwidth)\n",
    "#     plt.legend()\n",
    "#     plt.title('$\\gamma$={}'.format(gamma))\n",
    "#     plt.xlabel('bw of log(sigma_pull_corrected)')\n",
    "#     plt.ylabel('bw of log_e')"
   ]
  },
  {
   "cell_type": "code",
   "execution_count": null,
   "metadata": {
    "scrolled": true
   },
   "outputs": [],
   "source": [
    "#np.set_printoptions(threshold=np.inf)\n",
    "#print(cv_results['LLH'][cv_results['bandwidth'][:, 2] == 0.2])\n",
    "print(cv_results_max_LLH)\n",
    "# bandwidth = cv_results_max_LLH['bandwidth']"
   ]
  },
  {
   "cell_type": "code",
   "execution_count": null,
   "metadata": {
    "scrolled": false
   },
   "outputs": [],
   "source": [
    "for bw in np.unique(cv_results['bandwidth'][:, 2]):\n",
    "    print(bw)\n",
    "    print(cv_results[cv_results['bandwidth'][:, 2] == bw])\n",
    "    print(np.unique(cv_results['bandwidth'][:, 0][cv_results['bandwidth'][:, 2] == bw]))\n",
    "    if len(np.unique(cv_results['bandwidth'][:, 0][cv_results['bandwidth'][:, 2] == bw])) != 1 and\\\n",
    "            len(np.unique(cv_results['bandwidth'][:, 1][cv_results['bandwidth'][:, 2] == bw])) != 1:\n",
    "        plt.figure(dpi=150)\n",
    "        plt.tricontourf(cv_results['bandwidth'][cv_results['bandwidth'][:, 2] == bw][:, 0],\n",
    "                        cv_results['bandwidth'][cv_results['bandwidth'][:, 2] == bw][:, 1],\n",
    "                        cv_results['LLH'][cv_results['bandwidth'][:, 2] == bw],\n",
    "                        50)\n",
    "        plt.colorbar()\n",
    "        # plt.scatter(bandwidth[1], bandwidth[2], marker='x', label=bandwidth)\n",
    "        plt.title('$\\gamma$={}, bw of log_e={:.2f}'.format(gamma, bw))\n",
    "        plt.xlabel('bw of sigma_pull_corrected')\n",
    "        plt.ylabel('bw of psi')\n",
    "        #plt.legend()\n"
   ]
  },
  {
   "cell_type": "code",
   "execution_count": null,
   "metadata": {},
   "outputs": [],
   "source": []
  },
  {
   "cell_type": "code",
   "execution_count": null,
   "metadata": {},
   "outputs": [],
   "source": []
  },
  {
   "cell_type": "code",
   "execution_count": null,
   "metadata": {},
   "outputs": [],
   "source": []
  },
  {
   "cell_type": "code",
   "execution_count": null,
   "metadata": {},
   "outputs": [],
   "source": [
    "plt.figure(dpi=150)\n",
    "plt.plot(cv_results['bandwidth'][:, 1], cv_results['LLH'])\n",
    "plt.title('$\\gamma$={}'.format(gamma))\n",
    "plt.xlabel('bw of psi')\n",
    "plt.ylabel('LLH')"
   ]
  },
  {
   "cell_type": "markdown",
   "metadata": {},
   "source": [
    "## Plot contours of CV"
   ]
  },
  {
   "cell_type": "code",
   "execution_count": null,
   "metadata": {
    "scrolled": false
   },
   "outputs": [],
   "source": [
    "plt.figure(dpi=150)\n",
    "plt.tricontourf(cv_results['bandwidth'][:, 0], cv_results['bandwidth'][:, 1],\n",
    "                cv_results['LLH'], 50)\n",
    "plt.colorbar()\n",
    "plt.scatter(bandwidth[0], bandwidth[1], marker='x', label=bandwidth)\n",
    "plt.legend()\n",
    "plt.title('$\\gamma$={}'.format(gamma))\n",
    "plt.xlabel('bw of log(sigma_pull_corrected)')\n",
    "plt.ylabel('bw of log_e')"
   ]
  },
  {
   "cell_type": "code",
   "execution_count": null,
   "metadata": {},
   "outputs": [],
   "source": [
    "from scipy.interpolate import griddata\n",
    "\n",
    "x = cv_results['bandwidth'][:, 0]\n",
    "y = cv_results['bandwidth'][:, 1]\n",
    "z =  cv_results['LLH']\n",
    "\n",
    "xi = np.unique(x)\n",
    "yi = np.unique(y)\n",
    "zi = griddata((x, y), z, (xi[None,:], yi[:,None]), method='linear')\n",
    "\n",
    "plt.figure(dpi=150)\n",
    "plt.contourf(xi, yi, zi, 20)\n",
    "plt.colorbar()\n",
    "plt.scatter(bandwidth[0], bandwidth[1], marker='x', label=bandwidth)\n",
    "plt.legend()"
   ]
  },
  {
   "cell_type": "code",
   "execution_count": null,
   "metadata": {},
   "outputs": [],
   "source": []
  },
  {
   "cell_type": "code",
   "execution_count": null,
   "metadata": {},
   "outputs": [],
   "source": []
  },
  {
   "cell_type": "code",
   "execution_count": null,
   "metadata": {},
   "outputs": [],
   "source": []
  },
  {
   "cell_type": "code",
   "execution_count": null,
   "metadata": {},
   "outputs": [],
   "source": []
  },
  {
   "cell_type": "code",
   "execution_count": null,
   "metadata": {},
   "outputs": [],
   "source": []
  },
  {
   "cell_type": "markdown",
   "metadata": {},
   "source": [
    "## dataset_8yr_fit_IC86_2012_16_MC_2017_09_29_more_fields names"
   ]
  },
  {
   "cell_type": "code",
   "execution_count": null,
   "metadata": {},
   "outputs": [],
   "source": [
    "mc = np.load('/home/ge56lag/Data/dataset_8yr_fit_IC86_2012_16_MC_2017_09_29_more_fields.npy')\n",
    "mc.dtype.names"
   ]
  },
  {
   "cell_type": "code",
   "execution_count": null,
   "metadata": {},
   "outputs": [],
   "source": []
  },
  {
   "cell_type": "code",
   "execution_count": null,
   "metadata": {},
   "outputs": [],
   "source": []
  },
  {
   "cell_type": "code",
   "execution_count": null,
   "metadata": {},
   "outputs": [],
   "source": [
    "np.linspace(0.01, 0.25, 5)"
   ]
  },
  {
   "cell_type": "code",
   "execution_count": null,
   "metadata": {},
   "outputs": [],
   "source": [
    "np.geomspace(0.01, 0.25, 5)"
   ]
  },
  {
   "cell_type": "code",
   "execution_count": null,
   "metadata": {},
   "outputs": [],
   "source": []
  },
  {
   "cell_type": "code",
   "execution_count": null,
   "metadata": {},
   "outputs": [],
   "source": [
    "import cPickle as pickle\n",
    "import glob\n",
    "import itertools\n",
    "import numpy as np\n",
    "import os.path\n",
    "\n",
    "from kde_classes import Model, KDE\n",
    "\n",
    "model = Model('dec', mc=None, weighting=None)\n",
    "kde = KDE(model)\n",
    "\n",
    "cv_files = glob.glob('output/dec/temp/cv_*.npy')\n",
    "cv_results_split = np.array([], dtype=kde.cv_result_dtype)\n",
    "#cv_results = np.array([], dtype=kde.cv_result_dtype)\n",
    "\n",
    "for cv_file in cv_files:\n",
    "    cv_result_split = np.load(cv_file)\n",
    "    cv_results_split = np.append(cv_results_split, cv_result_split)\n",
    "\n",
    "# Gather splitted cv results by calculating average values.\n",
    "arr, unique_index = np.unique(cv_results_split['bandwidth'], return_index=True,\n",
    "                              axis=0)\n",
    "cv_results = cv_results_split[unique_index]\n",
    "for i, cv_result in enumerate(cv_results):\n",
    "    matches = cv_results_split[np.all(\n",
    "        cv_results_split['bandwidth'] == cv_result['bandwidth'], axis=1)]\n",
    "    cv_results['LLH'][i] = np.average(matches['LLH'])\n",
    "    cv_results['Zeros'][i] = np.average(matches['Zeros'])\n",
    "\n",
    "cv_results_max_LLH = cv_results[cv_results['LLH'] == np.max(cv_results['LLH'])]\n",
    "\n",
    "print(cv_results_max_LLH)\n",
    "#bandwidth = [cv_results_max_LLH[key] for key in model.bandwidth_vars]\n"
   ]
  },
  {
   "cell_type": "code",
   "execution_count": null,
   "metadata": {},
   "outputs": [],
   "source": [
    "cv_results_split"
   ]
  },
  {
   "cell_type": "code",
   "execution_count": null,
   "metadata": {},
   "outputs": [],
   "source": [
    "cv_results"
   ]
  },
  {
   "cell_type": "code",
   "execution_count": null,
   "metadata": {},
   "outputs": [],
   "source": []
  },
  {
   "cell_type": "code",
   "execution_count": null,
   "metadata": {},
   "outputs": [],
   "source": []
  },
  {
   "cell_type": "code",
   "execution_count": null,
   "metadata": {},
   "outputs": [],
   "source": []
  },
  {
   "cell_type": "code",
   "execution_count": null,
   "metadata": {},
   "outputs": [],
   "source": []
  },
  {
   "cell_type": "code",
   "execution_count": null,
   "metadata": {},
   "outputs": [],
   "source": []
  },
  {
   "cell_type": "code",
   "execution_count": null,
   "metadata": {},
   "outputs": [],
   "source": []
  },
  {
   "cell_type": "code",
   "execution_count": null,
   "metadata": {},
   "outputs": [],
   "source": []
  },
  {
   "cell_type": "code",
   "execution_count": null,
   "metadata": {},
   "outputs": [],
   "source": [
    "import os\n",
    "import logging\n",
    "import numpy as np\n",
    "import time\n",
    "from datetime import timedelta\n",
    "\n",
    "# Logging setup utilities\n",
    "from debugging import (\n",
    "    setup_logger,\n",
    "    setup_console_handler\n",
    ")\n",
    "\n",
    "from kde_classes import Model, KDE\n",
    "\n",
    "from ROOT import BinnedDensity\n",
    "\n",
    "setup_logger('KDE', logging.DEBUG)\n",
    "setup_console_handler('KDE', logging.DEBUG)\n",
    "logger = logging.getLogger('KDE.' + __name__)\n",
    "\n",
    "start_time = time.time()\n",
    "\n",
    "model = Model('sig_psi_E', mc=None, weighting='plotter_wkde',\n",
    "              gamma=2.0, phi0=1.0)\n",
    "kde = KDE(model)\n",
    "\n",
    "if False:\n",
    "    if True:\n",
    "        kde.set_kfold_subset(0)\n",
    "        binned_kernel = kde.generate_binned_kd((0.09, 0.32, 0.26))\n",
    "    else:\n",
    "        binned_kernel = kde.generate_binned_kd((0.09, 0.32, 0.26))\n",
    "\n",
    "    binned_kernel.writeToFile('/var/tmp/binned_kd_sig_psi_E_0.090,0.320,0.260_0.txt')\n",
    "else:\n",
    "    seed_path = '/home/ge56lag/Software/KDE/output/sig_psi_E/adaptive_kd_plotter_wkde_gamma_2.0_phi0_1.0/cv/binned_kd_sig_psi_E_0.090,0.320,0.260_0.txt'\n",
    "    if os.path.exists(seed_path):\n",
    "        pdf_seed = BinnedDensity('BinnedKernelDensity', kde.space, seed_path)\n",
    "        print('seed loaded')\n",
    "    else:\n",
    "        pdf_seed = None\n",
    "\n",
    "    if True:\n",
    "        result = kde.cross_validate_split((0.09, 0.32, 0.26), 0,\n",
    "            adaptive=True, pdf_seed=pdf_seed)\n",
    "    else:\n",
    "        result = kde.cross_validate((0.09, 0.32, 0.26), adaptive=True,\n",
    "                                    pdf_seed=pdf_seed)\n",
    "\n",
    "    np.save(\"/var/tmp/cv_0_0.npy\", result)\n",
    "\n",
    "elapsed_time = time.time() - start_time\n",
    "logger.debug('Elapsed time %s', timedelta(seconds=elapsed_time))"
   ]
  },
  {
   "cell_type": "markdown",
   "metadata": {},
   "source": [
    "18.08 100 bins sig_E\n",
    "\n",
    "Gamma: 1.5; CV: [([0.14, 0.37], -1.6083753, 0.)]\n",
    "Gamma: 2.0; CV: [([0.1 , 0.18], -1.3323385, 0.)]\n",
    "Gamma: 2.1; CV: [([0.1 , 0.12], -1.2647438, 0.)]\n",
    "Gamma: 2.2; CV: [([0.1 , 0.13], -1.1974131, 0.)]\n",
    "Gamma: 2.3; CV: [([0.1 , 0.13], -1.1312201, 0.)]\n",
    "Gamma: 2.4; CV: [([0.09, 0.13], -1.0667514, 0.)]\n",
    "Gamma: 2.5; CV: [([0.09, 0.13], -1.0044644, 0.)]\n",
    "Gamma: 2.6; CV: [([0.09, 0.13], -0.94482243, 0.)]\n",
    "Gamma: 2.7; CV: [([0.08, 0.08], -0.88819945, 0.)]\n",
    "Gamma: 2.8; CV: [([0.08, 0.08], -0.834888, 0.)]\n",
    "Gamma: 2.9; CV: [([0.08, 0.08], -0.7851407, 0.)]\n",
    "Gamma: 3.0; CV: [([0.08, 0.08], -0.7390723, 0.)]"
   ]
  },
  {
   "cell_type": "code",
   "execution_count": null,
   "metadata": {},
   "outputs": [],
   "source": []
  },
  {
   "cell_type": "code",
   "execution_count": null,
   "metadata": {},
   "outputs": [],
   "source": []
  },
  {
   "cell_type": "markdown",
   "metadata": {},
   "source": [
    "# Plotter wkde"
   ]
  },
  {
   "cell_type": "code",
   "execution_count": 3,
   "metadata": {},
   "outputs": [],
   "source": [
    "#%matplotlib notebook\n",
    "\n",
    "import importlib"
   ]
  },
  {
   "cell_type": "code",
   "execution_count": 8,
   "metadata": {},
   "outputs": [
    {
     "name": "stdout",
     "output_type": "stream",
     "text": [
      "found 5182 matching events.\n",
      "59 events, or 0.0113855654188 % are out of plotting range\n",
      "11 events, or 0.0021227325357 % are out of histogram bounds\n",
      "[4.579782377346181, 3.8498974700042443, 3.734534285544038, 3.603425070698006, 2.6623144651475386, 2.615604451487949, 2.4413662418416813, 1.8830047865009145, 1.6858626316066183, 1.536340525357959, 1.5306389167697814]\n"
     ]
    },
    {
     "data": {
      "image/png": "[encoded data removed]",
      "text/plain": [
       "<Figure size 432x288 with 1 Axes>"
      ]
     },
     "metadata": {
      "needs_background": "light"
     },
     "output_type": "display_data"
    },
    {
     "name": "stdout",
     "output_type": "stream",
     "text": [
      "Calculating spline basis...\n",
      "Reticulating splines...\n",
      "\tConvolving bases...\n",
      "\t\tConvolving dimension 0\n",
      "\t\tConvolving dimension 1\n",
      "\t\tConvolving dimension 2\n",
      "\tFlattening residuals matrix...\n",
      "Transforming fit array...\n",
      "Computing least square solution...\n",
      "Analyze[941192]: 0.160000 s\n",
      "Factorize[941192]: 0.060000 s\n",
      "Solve[941192]: 0.010000 s\n",
      "Done: cleaning up\n"
     ]
    },
    {
     "data": {
      "text/plain": [
       "<Figure size 432x288 with 0 Axes>"
      ]
     },
     "metadata": {},
     "output_type": "display_data"
    }
   ],
   "source": [
    "plotter_wkde = importlib.import_module('plotter_wkde')\n",
    "\n",
    "gammas = [2.0]\n",
    "logE = 5.0\n",
    "sigma_p = 0.15\n",
    "\n",
    "for gamma in gammas:\n",
    "    spatial_KDE_path = '/home/ge56lag/Software/KDE/output/sig_psi_E/adaptive_kd_plotter_wkde_gamma_{}_phi0_1.0/pdf/sig_psi_E.pkl'.format(gamma)\n",
    "    norm_KDE_path = '/home/ge56lag/Software/KDE/output/sig_E/adaptive_kd_plotter_wkde_gamma_{}_phi0_1.0/pdf/sig_E.pkl'.format(gamma)\n",
    "\n",
    "    spatial_pdf, mc = plotter_wkde.setup(spatial_KDE_path, norm_KDE_path)\n",
    "\n",
    "    plotter_wkde.make_plot(spatial_pdf, mc,logE , sigma_p, gamma=gamma, delta_sigma=0.2, show_quantile=False)"
   ]
  },
  {
   "cell_type": "code",
   "execution_count": null,
   "metadata": {},
   "outputs": [],
   "source": []
  }
 ],
 "metadata": {
  "kernelspec": {
   "display_name": "Python 2",
   "language": "python",
   "name": "python2"
  },
  "language_info": {
   "codemirror_mode": {
    "name": "ipython",
    "version": 2
   },
   "file_extension": ".py",
   "mimetype": "text/x-python",
   "name": "python",
   "nbconvert_exporter": "python",
   "pygments_lexer": "ipython2",
   "version": "2.7.5"
  }
 },
 "nbformat": 4,
 "nbformat_minor": 2
}
