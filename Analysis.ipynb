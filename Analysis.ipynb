{
 "cells": [
  {
   "cell_type": "code",
   "execution_count": 1,
   "metadata": {},
   "outputs": [
    {
     "name": "stdout",
     "output_type": "stream",
     "text": [
      "Welcome to JupyROOT 6.14/04\n"
     ]
    }
   ],
   "source": [
    "%matplotlib notebook\n",
    "import numpy as np\n",
    "import itertools\n",
    "\n",
    "from config import CFG\n",
    "from dataset import load_and_prepare_data\n",
    "from kde_classes import Model, KDE\n",
    "\n",
    "from models.multi_gaussian import settings, grid\n",
    "\n",
    "import matplotlib.pyplot as plt\n",
    "\n",
    "from mpl_toolkits.mplot3d import axes3d"
   ]
  },
  {
   "cell_type": "code",
   "execution_count": 2,
   "metadata": {
    "scrolled": true
   },
   "outputs": [],
   "source": [
    "mg = np.load(CFG['paths']['mg_mc'])\n",
    "model = Model(mg, settings)"
   ]
  },
  {
   "cell_type": "code",
   "execution_count": 3,
   "metadata": {},
   "outputs": [
    {
     "name": "stdout",
     "output_type": "stream",
     "text": [
      "Using ones as weight.\n",
      "                   y INFO: Creating 1D phase space in range (-5.000000, 5.000000)\n",
      "                   x INFO: Creating 1D phase space in range (-5.000000, 5.000000)\n",
      "        PhspCombined INFO: Creating combined phase space of 2 components\n",
      "        PhspCombined INFO: Adding component phase space \"y\", dim=1\n",
      "        PhspCombined INFO: Adding component phase space \"x\", dim=1\n",
      "        PhspCombined INFO: Resulting dimensionality is 2\n"
     ]
    }
   ],
   "source": [
    "kde = KDE(model)"
   ]
  },
  {
   "cell_type": "code",
   "execution_count": null,
   "metadata": {},
   "outputs": [],
   "source": [
    "binned_kernel_density = kde.generate_binned_kernel_density()"
   ]
  },
  {
   "cell_type": "code",
   "execution_count": null,
   "metadata": {},
   "outputs": [],
   "source": [
    "out_bins = []\n",
    "for key in settings:\n",
    "    out_bins.append(np.linspace(settings[key]['range'][0],\n",
    "                                settings[key]['range'][1],\n",
    "                                settings[key]['nbins']))\n",
    "coords = np.array(list(itertools.product(*out_bins)))"
   ]
  },
  {
   "cell_type": "code",
   "execution_count": null,
   "metadata": {},
   "outputs": [],
   "source": [
    "nbins = 100\n",
    "\n",
    "print('Evaluate KDEs:')\n",
    "pdf_vals = np.asarray([kde.eval_point(coord) for coord in coords])\n",
    "shape = np.ones(len(settings.keys()), dtype=int)*nbins\n",
    "pdf_vals = pdf_vals.reshape(*shape)"
   ]
  },
  {
   "cell_type": "code",
   "execution_count": null,
   "metadata": {},
   "outputs": [],
   "source": [
    "X, Y = np.meshgrid(*out_bins)"
   ]
  },
  {
   "cell_type": "code",
   "execution_count": null,
   "metadata": {},
   "outputs": [],
   "source": [
    "plt.figure()\n",
    "\n",
    "plt.pcolormesh(X, Y, pdf_vals)"
   ]
  },
  {
   "cell_type": "code",
   "execution_count": null,
   "metadata": {},
   "outputs": [],
   "source": [
    "fig = plt.figure(figsize=(8, 8))\n",
    "ax = fig.add_subplot(111, projection='3d')\n",
    "ax.plot_surface(X, Y, pdf_vals)\n",
    "ax.set_xlabel('x, $\\sigma=1$')\n",
    "ax.set_ylabel('y, $\\sigma=2$')"
   ]
  },
  {
   "cell_type": "markdown",
   "metadata": {},
   "source": [
    "Generate adaptive kde"
   ]
  },
  {
   "cell_type": "code",
   "execution_count": null,
   "metadata": {
    "scrolled": false
   },
   "outputs": [],
   "source": [
    "adaptive_kernel_density = kde.generate_adaptive_kernel_density()"
   ]
  },
  {
   "cell_type": "code",
   "execution_count": null,
   "metadata": {},
   "outputs": [],
   "source": [
    "nbins = 100\n",
    "\n",
    "print('Evaluate KDEs:')\n",
    "adaptive_pdf_vals = np.asarray([kde.eval_point(coord) for coord in coords])\n",
    "shape = np.ones(len(settings.keys()), dtype=int)*nbins\n",
    "adaptive_pdf_vals = adaptive_pdf_vals.reshape(*shape)"
   ]
  },
  {
   "cell_type": "code",
   "execution_count": null,
   "metadata": {},
   "outputs": [],
   "source": [
    "fig = plt.figure(figsize=(8, 8))\n",
    "ax = fig.add_subplot(111, projection='3d')\n",
    "ax.plot_surface(X, Y, adaptive_pdf_vals)\n",
    "ax.set_xlabel('x, $\\sigma=1$')\n",
    "ax.set_ylabel('y, $\\sigma=2$')"
   ]
  },
  {
   "cell_type": "code",
   "execution_count": null,
   "metadata": {},
   "outputs": [],
   "source": []
  },
  {
   "cell_type": "code",
   "execution_count": null,
   "metadata": {},
   "outputs": [],
   "source": [
    "fig = plt.figure(figsize=(8, 8))\n",
    "ax = fig.add_subplot(111)\n",
    "h = ax.hist2d(mg['x'], mg['y'], bins=[100, 100], range=[[-5, 5], [-5, 5]])\n",
    "fig.colorbar(h[3], ax=ax)\n"
   ]
  },
  {
   "cell_type": "code",
   "execution_count": null,
   "metadata": {},
   "outputs": [],
   "source": []
  },
  {
   "cell_type": "code",
   "execution_count": null,
   "metadata": {},
   "outputs": [],
   "source": [
    "llh, zeros = kde.cross_validate()"
   ]
  },
  {
   "cell_type": "code",
   "execution_count": 5,
   "metadata": {
    "scrolled": true
   },
   "outputs": [
    {
     "name": "stdout",
     "output_type": "stream",
     "text": [
      "[[0.3, 0.4, 0.5, 0.6], array([0.1, 0.2, 0.3, 0.4, 0.5, 0.6, 0.7, 0.8, 0.9, 1. ])]\n",
      "(0.3, 0.1)\n",
      "Using ones as weight.\n",
      "Using ones as weight.\n",
      "Using ones as weight.\n",
      "Using ones as weight.\n",
      "Using ones as weight.\n",
      "('llh, zeros:', [-6806.20104066579, -6854.918897898333, -6861.111261419833, -6772.452717420845, -6730.284755443707], [0, 0, 0, 0, 0])\n",
      "(0.3, 0.2)\n",
      "Using ones as weight.\n",
      "Using ones as weight.\n",
      "Using ones as weight.\n",
      "Using ones as weight.\n",
      "Using ones as weight.\n",
      "('llh, zeros:', [-6815.157360544591, -6793.770428270223, -6825.943632302338, -6816.141835571063, -6730.921110808593], [0, 0, 0, 0, 0])\n",
      "(0.3, 0.30000000000000004)\n",
      "Using ones as weight.\n",
      "Using ones as weight.\n",
      "Using ones as weight.\n",
      "Using ones as weight.\n",
      "Using ones as weight.\n",
      "('llh, zeros:', [-6766.899004208487, -6792.915799592356, -6802.706914481705, -6816.548684837609, -6730.85644264079], [0, 0, 0, 0, 0])\n",
      "(0.3, 0.4)\n",
      "Using ones as weight.\n",
      "Using ones as weight.\n",
      "Using ones as weight.\n",
      "Using ones as weight.\n",
      "Using ones as weight.\n",
      "('llh, zeros:', [-6829.462016062933, -6782.727733106138, -6806.071737878428, -6799.828034487076, -6716.184911237841], [0, 0, 0, 0, 0])\n",
      "(0.3, 0.5)\n",
      "Using ones as weight.\n",
      "Using ones as weight.\n",
      "Using ones as weight.\n",
      "Using ones as weight.\n",
      "Using ones as weight.\n",
      "('llh, zeros:', [-6795.613757941403, -6776.868151301635, -6806.437312681621, -6781.489118347836, -6710.645379427597], [0, 0, 0, 0, 0])\n",
      "(0.3, 0.6)\n",
      "Using ones as weight.\n",
      "Using ones as weight.\n",
      "Using ones as weight.\n",
      "Using ones as weight.\n",
      "Using ones as weight.\n",
      "('llh, zeros:', [-6801.455050666711, -6775.593561039053, -6801.8953062091805, -6774.290584641765, -6722.102328341109], [0, 0, 0, 0, 0])\n",
      "(0.3, 0.7000000000000001)\n",
      "Using ones as weight.\n",
      "Using ones as weight.\n",
      "Using ones as weight.\n",
      "Using ones as weight.\n",
      "Using ones as weight.\n",
      "('llh, zeros:', [-6795.3409440200485, -6776.239243482829, -6799.631611427128, -6771.19453943096, -6720.961363094375], [0, 0, 0, 0, 0])\n",
      "(0.3, 0.8)\n",
      "Using ones as weight.\n",
      "Using ones as weight.\n",
      "Using ones as weight.\n",
      "Using ones as weight.\n",
      "Using ones as weight.\n",
      "('llh, zeros:', [-6803.930670753431, -6789.966480247, -6811.859999745054, -6782.6561156627995, -6734.143694436159], [0, 0, 0, 0, 0])\n",
      "(0.3, 0.9)\n",
      "Using ones as weight.\n",
      "Using ones as weight.\n",
      "Using ones as weight.\n",
      "Using ones as weight.\n",
      "Using ones as weight.\n",
      "('llh, zeros:', [-6802.153228283376, -6789.658558601568, -6811.875338054421, -6781.178390848216, -6732.711029169536], [0, 0, 0, 0, 0])\n",
      "(0.3, 1.0)\n",
      "Using ones as weight.\n",
      "Using ones as weight.\n",
      "Using ones as weight.\n",
      "Using ones as weight.\n",
      "Using ones as weight.\n",
      "('llh, zeros:', [-6803.006801859835, -6791.149248017282, -6813.542868417513, -6781.578490730954, -6735.521545401372], [0, 0, 0, 0, 0])\n",
      "(0.4, 0.1)\n",
      "Using ones as weight.\n",
      "Using ones as weight.\n",
      "Using ones as weight.\n",
      "Using ones as weight.\n",
      "Using ones as weight.\n",
      "('llh, zeros:', [-6766.487330627861, -6807.3291278812985, -6828.548113853355, -6779.363713375025, -6756.278749141109], [0, 0, 0, 0, 0])\n",
      "(0.4, 0.2)\n",
      "Using ones as weight.\n",
      "Using ones as weight.\n",
      "Using ones as weight.\n",
      "Using ones as weight.\n",
      "Using ones as weight.\n",
      "('llh, zeros:', [-6771.184616768629, -6785.663917891066, -6807.0358053869895, -6783.514437199159, -6758.627390974692], [0, 0, 0, 0, 0])\n",
      "(0.4, 0.30000000000000004)\n",
      "Using ones as weight.\n",
      "Using ones as weight.\n",
      "Using ones as weight.\n",
      "Using ones as weight.\n",
      "Using ones as weight.\n",
      "('llh, zeros:', [-6757.7637887920655, -6780.404717804255, -6792.947114172777, -6777.653941445375, -6732.284902660034], [0, 0, 0, 0, 0])\n",
      "(0.4, 0.4)\n",
      "Using ones as weight.\n",
      "Using ones as weight.\n",
      "Using ones as weight.\n",
      "Using ones as weight.\n",
      "Using ones as weight.\n",
      "('llh, zeros:', [-6834.7400798681, -6772.86125865685, -6799.386112650173, -6767.405395913736, -6721.481634267904], [0, 0, 0, 0, 0])\n",
      "(0.4, 0.5)\n",
      "Using ones as weight.\n",
      "Using ones as weight.\n",
      "Using ones as weight.\n",
      "Using ones as weight.\n",
      "Using ones as weight.\n",
      "('llh, zeros:', [-6812.854569687658, -6770.661669408113, -6801.324315124411, -6770.916883251437, -6718.014754034748], [0, 0, 0, 0, 0])\n",
      "(0.4, 0.6)\n",
      "Using ones as weight.\n",
      "Using ones as weight.\n",
      "Using ones as weight.\n",
      "Using ones as weight.\n",
      "Using ones as weight.\n",
      "('llh, zeros:', [-6806.102655677527, -6770.821268419214, -6797.56291787767, -6766.719953212707, -6730.5964306195165], [0, 0, 0, 0, 0])\n",
      "(0.4, 0.7000000000000001)\n",
      "Using ones as weight.\n",
      "Using ones as weight.\n",
      "Using ones as weight.\n",
      "Using ones as weight.\n",
      "Using ones as weight.\n",
      "('llh, zeros:', [-6801.755839942521, -6786.048778121391, -6811.728822955463, -6765.260582710674, -6729.80434255975], [0, 0, 0, 0, 0])\n",
      "(0.4, 0.8)\n",
      "Using ones as weight.\n",
      "Using ones as weight.\n",
      "Using ones as weight.\n",
      "Using ones as weight.\n",
      "Using ones as weight.\n",
      "('llh, zeros:', [-6799.61591627935, -6784.718709907989, -6808.669211936187, -6777.618711689559, -6730.282804676555], [0, 0, 0, 0, 0])\n",
      "(0.4, 0.9)\n",
      "Using ones as weight.\n",
      "Using ones as weight.\n",
      "Using ones as weight.\n",
      "Using ones as weight.\n",
      "Using ones as weight.\n",
      "('llh, zeros:', [-6812.282814793221, -6784.5108609721565, -6808.963612564738, -6776.391646296688, -6731.29446771177], [0, 0, 0, 0, 0])\n",
      "(0.4, 1.0)\n",
      "Using ones as weight.\n",
      "Using ones as weight.\n",
      "Using ones as weight.\n",
      "Using ones as weight.\n",
      "Using ones as weight.\n",
      "('llh, zeros:', [-6812.4801178619455, -6786.73888917648, -6811.1358044985745, -6777.587603136266, -6734.391394017839], [0, 0, 0, 0, 0])\n",
      "(0.5, 0.1)\n",
      "Using ones as weight.\n",
      "Using ones as weight.\n",
      "Using ones as weight.\n",
      "Using ones as weight.\n",
      "Using ones as weight.\n",
      "('llh, zeros:', [-6760.766374988081, -6804.133184227148, -6822.662660008276, -6795.716798180185, -6766.75678673587], [0, 0, 0, 0, 0])\n",
      "(0.5, 0.2)\n",
      "Using ones as weight.\n",
      "Using ones as weight.\n",
      "Using ones as weight.\n",
      "Using ones as weight.\n",
      "Using ones as weight.\n",
      "('llh, zeros:', [-6761.275232856681, -6777.4282068515895, -6800.151008062352, -6782.622186201698, -6747.874816536298], [0, 0, 0, 0, 0])\n",
      "(0.5, 0.30000000000000004)\n",
      "Using ones as weight.\n",
      "Using ones as weight.\n",
      "Using ones as weight.\n",
      "Using ones as weight.\n",
      "Using ones as weight.\n",
      "('llh, zeros:', [-6762.189311459776, -6775.044134412106, -6788.433943430853, -6776.200788362756, -6726.762189044274], [0, 0, 0, 0, 0])\n",
      "(0.5, 0.4)\n",
      "Using ones as weight.\n",
      "Using ones as weight.\n",
      "Using ones as weight.\n",
      "Using ones as weight.\n",
      "Using ones as weight.\n",
      "('llh, zeros:', [-6836.131289425279, -6781.992587539867, -6811.8964338984315, -6768.196961488064, -6728.298840442048], [0, 0, 0, 0, 0])\n",
      "(0.5, 0.5)\n",
      "Using ones as weight.\n",
      "Using ones as weight.\n",
      "Using ones as weight.\n",
      "Using ones as weight.\n",
      "Using ones as weight.\n",
      "('llh, zeros:', [-6805.881820563007, -6780.0277362939805, -6799.46232986066, -6763.465010915952, -6725.520419318813], [0, 0, 0, 0, 0])\n",
      "(0.5, 0.6)\n",
      "Using ones as weight.\n",
      "Using ones as weight.\n",
      "Using ones as weight.\n",
      "Using ones as weight.\n",
      "Using ones as weight.\n",
      "('llh, zeros:', [-6800.759852287725, -6779.791912570341, -6812.310969104578, -6761.258446536038, -6725.395321756528], [0, 0, 0, 0, 0])\n",
      "(0.5, 0.7000000000000001)\n",
      "Using ones as weight.\n",
      "Using ones as weight.\n",
      "Using ones as weight.\n",
      "Using ones as weight.\n",
      "Using ones as weight.\n",
      "('llh, zeros:', [-6798.171394821473, -6779.974976569339, -6809.5441980951055, -6760.620072302589, -6725.874180691962], [0, 0, 0, 0, 0])\n",
      "(0.5, 0.8)\n",
      "Using ones as weight.\n",
      "Using ones as weight.\n",
      "Using ones as weight.\n",
      "Using ones as weight.\n",
      "Using ones as weight.\n",
      "('llh, zeros:', [-6809.891028573234, -6780.37746216957, -6807.593777265361, -6772.799276331472, -6727.096158362738], [0, 0, 0, 0, 0])\n",
      "(0.5, 0.9)\n",
      "Using ones as weight.\n",
      "Using ones as weight.\n",
      "Using ones as weight.\n",
      "Using ones as weight.\n",
      "Using ones as weight.\n",
      "('llh, zeros:', [-6808.745003726853, -6781.12386208618, -6808.346249288258, -6772.538975758962, -6729.4223110609055], [0, 0, 0, 0, 0])\n",
      "(0.5, 1.0)\n",
      "Using ones as weight.\n",
      "Using ones as weight.\n",
      "Using ones as weight.\n",
      "Using ones as weight.\n",
      "Using ones as weight.\n",
      "('llh, zeros:', [-6810.05509063537, -6783.586377796185, -6810.675973611446, -6774.212738766213, -6733.220508011618], [0, 0, 0, 0, 0])\n",
      "(0.6, 0.1)\n",
      "Using ones as weight.\n",
      "Using ones as weight.\n",
      "Using ones as weight.\n",
      "Using ones as weight.\n",
      "Using ones as weight.\n",
      "('llh, zeros:', [-6762.219643290089, -6807.247887162948, -6812.891091247711, -6781.291246777313, -6748.397107815172], [0, 0, 0, 0, 0])\n",
      "(0.6, 0.2)\n",
      "Using ones as weight.\n",
      "Using ones as weight.\n",
      "Using ones as weight.\n",
      "Using ones as weight.\n"
     ]
    },
    {
     "name": "stdout",
     "output_type": "stream",
     "text": [
      "Using ones as weight.\n",
      "('llh, zeros:', [-6764.761087810304, -6783.886995898462, -6795.594045830292, -6781.255134199559, -6734.616876637784], [0, 0, 0, 0, 0])\n",
      "(0.6, 0.30000000000000004)\n",
      "Using ones as weight.\n",
      "Using ones as weight.\n",
      "Using ones as weight.\n",
      "Using ones as weight.\n",
      "Using ones as weight.\n",
      "('llh, zeros:', [-6777.737522395422, -6782.549948666715, -6785.306940522434, -6768.417527709938, -6732.467448421712], [0, 0, 0, 0, 0])\n",
      "(0.6, 0.4)\n",
      "Using ones as weight.\n",
      "Using ones as weight.\n",
      "Using ones as weight.\n",
      "Using ones as weight.\n",
      "Using ones as weight.\n",
      "('llh, zeros:', [-6809.8370501164645, -6776.526430785484, -6807.122503449411, -6761.357283141755, -6724.936220218769], [0, 0, 0, 0, 0])\n",
      "(0.6, 0.5)\n",
      "Using ones as weight.\n",
      "Using ones as weight.\n",
      "Using ones as weight.\n",
      "Using ones as weight.\n",
      "Using ones as weight.\n",
      "('llh, zeros:', [-6800.797090134229, -6774.825591601823, -6797.897367658471, -6758.777173525109, -6723.12021169179], [0, 0, 0, 0, 0])\n",
      "(0.6, 0.6)\n",
      "Using ones as weight.\n",
      "Using ones as weight.\n",
      "Using ones as weight.\n",
      "Using ones as weight.\n",
      "Using ones as weight.\n",
      "('llh, zeros:', [-6797.47755026624, -6775.138899245892, -6810.601313814039, -6774.445659305682, -6723.284145423564], [0, 0, 0, 0, 0])\n",
      "(0.6, 0.7000000000000001)\n",
      "Using ones as weight.\n",
      "Using ones as weight.\n",
      "Using ones as weight.\n",
      "Using ones as weight.\n",
      "Using ones as weight.\n",
      "('llh, zeros:', [-6796.238881390034, -6776.228719411785, -6806.77296572076, -6769.568611549572, -6724.047961862974], [0, 0, 0, 0, 0])\n",
      "(0.6, 0.8)\n",
      "Using ones as weight.\n",
      "Using ones as weight.\n",
      "Using ones as weight.\n",
      "Using ones as weight.\n",
      "Using ones as weight.\n",
      "('llh, zeros:', [-6807.190639101476, -6777.583339404207, -6806.097860312313, -6769.18172341875, -6725.69371259438], [0, 0, 0, 0, 0])\n",
      "(0.6, 0.9)\n",
      "Using ones as weight.\n",
      "Using ones as weight.\n",
      "Using ones as weight.\n",
      "Using ones as weight.\n",
      "Using ones as weight.\n",
      "('llh, zeros:', [-6807.2034905001055, -6779.100270902869, -6807.545001162415, -6769.748657700467, -6728.412934440169], [0, 0, 0, 0, 0])\n",
      "(0.6, 1.0)\n",
      "Using ones as weight.\n",
      "Using ones as weight.\n",
      "Using ones as weight.\n",
      "Using ones as weight.\n",
      "Using ones as weight.\n",
      "('llh, zeros:', [-6809.103294150578, -6782.149659758679, -6810.038291915055, -6771.970342476656, -6732.638160108806], [0, 0, 0, 0, 0])\n"
     ]
    },
    {
     "name": "stderr",
     "output_type": "stream",
     "text": [
      "IOPub data rate exceeded.\n",
      "The notebook server will temporarily stop sending output\n",
      "to the client in order to avoid crashing it.\n",
      "To change this limit, set the config variable\n",
      "`--NotebookApp.iopub_data_rate_limit`.\n",
      "\n",
      "Current values:\n",
      "NotebookApp.iopub_data_rate_limit=1000000.0 (bytes/sec)\n",
      "NotebookApp.rate_limit_window=3.0 (secs)\n",
      "\n"
     ]
    }
   ],
   "source": [
    "result = kde.cross_validate_bandwidths()"
   ]
  },
  {
   "cell_type": "code",
   "execution_count": null,
   "metadata": {},
   "outputs": [],
   "source": []
  }
 ],
 "metadata": {
  "kernelspec": {
   "display_name": "Python 2",
   "language": "python",
   "name": "python2"
  },
  "language_info": {
   "codemirror_mode": {
    "name": "ipython",
    "version": 2
   },
   "file_extension": ".py",
   "mimetype": "text/x-python",
   "name": "python",
   "nbconvert_exporter": "python",
   "pygments_lexer": "ipython2",
   "version": "2.7.5"
  }
 },
 "nbformat": 4,
 "nbformat_minor": 2
}
