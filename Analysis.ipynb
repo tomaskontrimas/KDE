{
 "cells": [
  {
   "cell_type": "code",
   "execution_count": 1,
   "metadata": {},
   "outputs": [
    {
     "name": "stdout",
     "output_type": "stream",
     "text": [
      "Welcome to JupyROOT 6.14/04\n"
     ]
    }
   ],
   "source": [
    "%matplotlib inline\n",
    "import numpy as np\n",
    "import itertools\n",
    "import logging\n",
    "\n",
    "import matplotlib.pyplot as plt\n",
    "from mpl_toolkits.mplot3d import axes3d\n",
    "\n",
    "from config import CFG\n",
    "from kde_classes import Model, KDE\n",
    "\n",
    "# Logging setup utilities\n",
    "from debugging import (\n",
    "    setup_logger,\n",
    "    setup_console_handler\n",
    ")"
   ]
  },
  {
   "cell_type": "code",
   "execution_count": null,
   "metadata": {},
   "outputs": [],
   "source": [
    "setup_logger('KDE', logging.DEBUG)\n",
    "log_format = '%(asctime)s %(processName)s %(name)s %(levelname)s: '\\\n",
    "             '%(message)s'\n",
    "setup_console_handler('KDE', logging.DEBUG, log_format)"
   ]
  },
  {
   "cell_type": "code",
   "execution_count": 2,
   "metadata": {
    "scrolled": false
   },
   "outputs": [],
   "source": [
    "#mc = np.load(CFG['paths']['mg_mc'])\n",
    "model = Model('models.sig_E', mc=None, weighting='plotter_wkde')"
   ]
  },
  {
   "cell_type": "code",
   "execution_count": 3,
   "metadata": {
    "scrolled": false
   },
   "outputs": [],
   "source": [
    "kde = KDE(model)"
   ]
  },
  {
   "cell_type": "code",
   "execution_count": 6,
   "metadata": {},
   "outputs": [
    {
     "name": "stdout",
     "output_type": "stream",
     "text": [
      "[(0.05, 0.11, -1.3331515, 0.)]\n"
     ]
    }
   ],
   "source": [
    "result = kde.cross_validate([0.05, 0.11], adaptive=True, pdf_seed=None)\n",
    "print(result)"
   ]
  },
  {
   "cell_type": "code",
   "execution_count": 8,
   "metadata": {},
   "outputs": [],
   "source": [
    "pdf_seed = kde.generate_binned_kd([0.05, 0.11])"
   ]
  },
  {
   "cell_type": "code",
   "execution_count": 9,
   "metadata": {},
   "outputs": [
    {
     "name": "stdout",
     "output_type": "stream",
     "text": [
      "[(0.05, 0.11, -1.333231, 0.)]\n"
     ]
    }
   ],
   "source": [
    "result = kde.cross_validate([0.05, 0.11], adaptive=True, pdf_seed=pdf_seed)\n",
    "print(result)"
   ]
  },
  {
   "cell_type": "code",
   "execution_count": 11,
   "metadata": {},
   "outputs": [
    {
     "name": "stdout",
     "output_type": "stream",
     "text": [
      "[(0.05, 0.11, -1.3320591, 0.)]\n"
     ]
    }
   ],
   "source": [
    "kde.model.approx_pdf = pdf_seed\n",
    "result = kde.cross_validate([0.05, 0.11], adaptive=True, pdf_seed=None)\n",
    "print(result)"
   ]
  },
  {
   "cell_type": "code",
   "execution_count": null,
   "metadata": {},
   "outputs": [],
   "source": [
    "out_bins = []\n",
    "for i, key in enumerate(model.vars):\n",
    "    out_bins.append(np.linspace(model.ranges[i][0],\n",
    "                                model.ranges[i][1],\n",
    "                                model.nbins[i]))\n",
    "    print(key)\n",
    "coords = np.array(list(itertools.product(*out_bins)))\n",
    "X, Y = np.meshgrid(*out_bins[:-1], indexing='ij')"
   ]
  },
  {
   "cell_type": "code",
   "execution_count": null,
   "metadata": {},
   "outputs": [],
   "source": [
    "binned_kernel_density = kde.generate_binned_kd([0.06, 0.16])"
   ]
  },
  {
   "cell_type": "code",
   "execution_count": null,
   "metadata": {},
   "outputs": [],
   "source": [
    "pdf_vals = np.asarray([kde.eval_point(binned_kernel_density, coord) for coord in coords])\n",
    "pdf_vals = pdf_vals.reshape(model.nbins)"
   ]
  },
  {
   "cell_type": "code",
   "execution_count": null,
   "metadata": {},
   "outputs": [],
   "source": [
    "plt.figure(figsize=(8, 8))\n",
    "\n",
    "plt.pcolormesh(X, Y, pdf_vals)"
   ]
  },
  {
   "cell_type": "code",
   "execution_count": null,
   "metadata": {},
   "outputs": [],
   "source": [
    "fig = plt.figure(figsize=(8, 8))\n",
    "ax = fig.add_subplot(111, projection='3d')\n",
    "ax.plot_surface(X, Y, pdf_vals)\n",
    "ax.set_xlabel('x, $\\sigma=1$')\n",
    "ax.set_ylabel('y, $\\sigma=2$')"
   ]
  },
  {
   "cell_type": "markdown",
   "metadata": {},
   "source": [
    "Generate adaptive kde"
   ]
  },
  {
   "cell_type": "code",
   "execution_count": null,
   "metadata": {
    "scrolled": false
   },
   "outputs": [],
   "source": [
    "adaptive_kernel_density = kde.generate_adaptive_kd([0.5, 0.6])"
   ]
  },
  {
   "cell_type": "code",
   "execution_count": null,
   "metadata": {},
   "outputs": [],
   "source": [
    "adaptive_pdf_vals = np.asarray([kde.eval_point(adaptive_kernel_density, coord) for coord in coords])\n",
    "adaptive_pdf_vals = adaptive_pdf_vals.reshape(model.nbins)"
   ]
  },
  {
   "cell_type": "code",
   "execution_count": null,
   "metadata": {},
   "outputs": [],
   "source": [
    "fig = plt.figure(figsize=(8, 8))\n",
    "ax = fig.add_subplot(111, projection='3d')\n",
    "ax.plot_surface(X, Y, adaptive_pdf_vals)\n",
    "ax.set_xlabel('x, $\\sigma=1$')\n",
    "ax.set_ylabel('y, $\\sigma=2$')"
   ]
  },
  {
   "cell_type": "markdown",
   "metadata": {},
   "source": [
    "Plot mc data"
   ]
  },
  {
   "cell_type": "code",
   "execution_count": null,
   "metadata": {},
   "outputs": [],
   "source": [
    "from dataset import load_and_prepare_data\n",
    "\n",
    "mc = load_and_prepare_data(CFG['paths']['IC_mc'])\n",
    "\n",
    "fig = plt.figure(figsize=(8, 8))\n",
    "ax = fig.add_subplot(111)\n",
    "#h = ax.hist2d(mc['x'], mc['y'], bins=[100, 100], range=[[-5, 5], [-5, 5]])\n",
    "h = ax.hist2d(np.log10(mc['sigma_pull_corrected']), mc['logE'], bins=[200, 100])\n",
    "fig.colorbar(h[3], ax=ax)"
   ]
  },
  {
   "cell_type": "code",
   "execution_count": null,
   "metadata": {},
   "outputs": [],
   "source": []
  },
  {
   "cell_type": "code",
   "execution_count": null,
   "metadata": {
    "scrolled": true
   },
   "outputs": [],
   "source": [
    "cv_result = kde.cross_validate([0.5, 0.5], adaptive=False)"
   ]
  },
  {
   "cell_type": "code",
   "execution_count": null,
   "metadata": {},
   "outputs": [],
   "source": [
    "cv_result"
   ]
  },
  {
   "cell_type": "code",
   "execution_count": null,
   "metadata": {},
   "outputs": [],
   "source": [
    "result = kde.cross_validate_bandwidths(bandwidths=[[0.5, 0.6], [0.6]], adaptive=True)"
   ]
  },
  {
   "cell_type": "code",
   "execution_count": null,
   "metadata": {},
   "outputs": [],
   "source": [
    "result"
   ]
  },
  {
   "cell_type": "code",
   "execution_count": null,
   "metadata": {},
   "outputs": [],
   "source": [
    "result[result['LLH'] == np.max(result['LLH'])]"
   ]
  },
  {
   "cell_type": "code",
   "execution_count": null,
   "metadata": {},
   "outputs": [],
   "source": []
  },
  {
   "cell_type": "code",
   "execution_count": null,
   "metadata": {},
   "outputs": [],
   "source": []
  },
  {
   "cell_type": "code",
   "execution_count": null,
   "metadata": {},
   "outputs": [],
   "source": []
  },
  {
   "cell_type": "code",
   "execution_count": null,
   "metadata": {},
   "outputs": [],
   "source": []
  },
  {
   "cell_type": "code",
   "execution_count": null,
   "metadata": {},
   "outputs": [],
   "source": []
  },
  {
   "cell_type": "code",
   "execution_count": null,
   "metadata": {},
   "outputs": [],
   "source": []
  },
  {
   "cell_type": "code",
   "execution_count": null,
   "metadata": {},
   "outputs": [],
   "source": [
    "import glob\n",
    "import numpy as np\n",
    "\n",
    "from config import CFG\n",
    "from dataset import load_and_prepare_data\n",
    "from kde_classes import Model, KDE\n",
    "\n",
    "mc = np.load(CFG['paths']['mg_mc'])\n",
    "\n",
    "model = Model('models.multi_gaussian', mc, weighting=None)\n",
    "kde = KDE(model)\n",
    "\n",
    "cv_files = glob.glob('output/multi_gaussian/cv_*.npy')\n",
    "cv_results = np.array([], dtype=kde.cv_result.dtype)\n",
    "\n",
    "print(kde.cv_result.dtype)\n",
    "for cv_file in cv_files:\n",
    "    cv_result = np.loadtxt(cv_file, dtype=kde.cv_result.dtype)\n",
    "    cv_results = np.append(cv_results, re)\n",
    "\n",
    "print(cv_results)"
   ]
  },
  {
   "cell_type": "code",
   "execution_count": null,
   "metadata": {},
   "outputs": [],
   "source": [
    "f = np.load('output/sig_psi_E/cv/cv_31.npy')\n",
    "f.dtype"
   ]
  },
  {
   "cell_type": "code",
   "execution_count": null,
   "metadata": {},
   "outputs": [],
   "source": [
    "import glob\n",
    "import numpy as np\n",
    "\n",
    "from config import CFG\n",
    "from dataset import load_and_prepare_data\n",
    "from kde_classes import Model, KDE\n",
    "\n",
    "#mc = np.load('data/multi_gaussian.npy')\n",
    "\n",
    "model = Model('models.sig_psi_E', mc=None, weighting=None)\n",
    "kde = KDE(model)\n",
    "\n",
    "cv_files = glob.glob('output/sig_psi_E/cv/cv_*.npy')\n",
    "print(kde.cv_result.dtype)\n",
    "print(cv_files)\n",
    "cv_results = np.array([], dtype=kde.cv_result.dtype)\n",
    "\n",
    "for cv_file in cv_files:\n",
    "    cv_result = np.load(cv_file)\n",
    "    print(cv_result.dtype)\n",
    "    cv_results = np.append(cv_results, cv_result)\n",
    "\n",
    "print(cv_results)\n",
    "\n",
    "result_max_LLH = cv_results[cv_results['LLH'] == np.max(cv_results['LLH'])]\n",
    "\n",
    "bandwidth = [result_max_LLH[key] for key in model.bandwidth_vars]\n",
    "\n",
    "print(bandwidth)"
   ]
  },
  {
   "cell_type": "code",
   "execution_count": null,
   "metadata": {},
   "outputs": [],
   "source": [
    "bandwidth[1]"
   ]
  },
  {
   "cell_type": "code",
   "execution_count": null,
   "metadata": {},
   "outputs": [],
   "source": []
  },
  {
   "cell_type": "markdown",
   "metadata": {},
   "source": [
    "## Comparison of old vs new cv"
   ]
  },
  {
   "cell_type": "code",
   "execution_count": 12,
   "metadata": {},
   "outputs": [
    {
     "name": "stdout",
     "output_type": "stream",
     "text": [
      "{'pdf_vals': array([[0., 0., 0., ..., 0., 0., 0.],\n",
      "       [0., 0., 0., ..., 0., 0., 0.],\n",
      "       [0., 0., 0., ..., 0., 0., 0.],\n",
      "       ...,\n",
      "       [0., 0., 0., ..., 0., 0., 0.],\n",
      "       [0., 0., 0., ..., 0., 0., 0.],\n",
      "       [0., 0., 0., ..., 0., 0., 0.]]), 'bw': [array([0.1], dtype=float32), array([0.17], dtype=float32)], 'coords': array([[-3.09966765,  2.00000132],\n",
      "       [-3.09966765,  2.06041058],\n",
      "       [-3.09966765,  2.12081983],\n",
      "       ...,\n",
      "       [ 1.14384474,  7.85969877],\n",
      "       [ 1.14384474,  7.92010802],\n",
      "       [ 1.14384474,  7.98051727]]), 'vars': ['sigma_pull_corrected', 'log_e'], 'bins': [array([-3.09966765, -3.05680389, -3.01394013, -2.97107637, -2.92821261,\n",
      "       -2.88534884, -2.84248508, -2.79962132, -2.75675756, -2.7138938 ,\n",
      "       -2.67103004, -2.62816628, -2.58530251, -2.54243875, -2.49957499,\n",
      "       -2.45671123, -2.41384747, -2.37098371, -2.32811994, -2.28525618,\n",
      "       -2.24239242, -2.19952866, -2.1566649 , -2.11380114, -2.07093738,\n",
      "       -2.02807361, -1.98520985, -1.94234609, -1.89948233, -1.85661857,\n",
      "       -1.81375481, -1.77089104, -1.72802728, -1.68516352, -1.64229976,\n",
      "       -1.599436  , -1.55657224, -1.51370848, -1.47084471, -1.42798095,\n",
      "       -1.38511719, -1.34225343, -1.29938967, -1.25652591, -1.21366214,\n",
      "       -1.17079838, -1.12793462, -1.08507086, -1.0422071 , -0.99934334,\n",
      "       -0.95647958, -0.91361581, -0.87075205, -0.82788829, -0.78502453,\n",
      "       -0.74216077, -0.69929701, -0.65643325, -0.61356948, -0.57070572,\n",
      "       -0.52784196, -0.4849782 , -0.44211444, -0.39925068, -0.35638691,\n",
      "       -0.31352315, -0.27065939, -0.22779563, -0.18493187, -0.14206811,\n",
      "       -0.09920435, -0.05634058, -0.01347682,  0.02938694,  0.0722507 ,\n",
      "        0.11511446,  0.15797822,  0.20084199,  0.24370575,  0.28656951,\n",
      "        0.32943327,  0.37229703,  0.41516079,  0.45802455,  0.50088832,\n",
      "        0.54375208,  0.58661584,  0.6294796 ,  0.67234336,  0.71520712,\n",
      "        0.75807089,  0.80093465,  0.84379841,  0.88666217,  0.92952593,\n",
      "        0.97238969,  1.01525345,  1.05811722,  1.10098098,  1.14384474]), array([2.00000132, 2.06041058, 2.12081983, 2.18122908, 2.24163833,\n",
      "       2.30204758, 2.36245684, 2.42286609, 2.48327534, 2.54368459,\n",
      "       2.60409384, 2.6645031 , 2.72491235, 2.7853216 , 2.84573085,\n",
      "       2.9061401 , 2.96654936, 3.02695861, 3.08736786, 3.14777711,\n",
      "       3.20818636, 3.26859562, 3.32900487, 3.38941412, 3.44982337,\n",
      "       3.51023262, 3.57064188, 3.63105113, 3.69146038, 3.75186963,\n",
      "       3.81227888, 3.87268814, 3.93309739, 3.99350664, 4.05391589,\n",
      "       4.11432514, 4.1747344 , 4.23514365, 4.2955529 , 4.35596215,\n",
      "       4.4163714 , 4.47678066, 4.53718991, 4.59759916, 4.65800841,\n",
      "       4.71841766, 4.77882692, 4.83923617, 4.89964542, 4.96005467,\n",
      "       5.02046392, 5.08087318, 5.14128243, 5.20169168, 5.26210093,\n",
      "       5.32251018, 5.38291944, 5.44332869, 5.50373794, 5.56414719,\n",
      "       5.62455644, 5.6849657 , 5.74537495, 5.8057842 , 5.86619345,\n",
      "       5.9266027 , 5.98701196, 6.04742121, 6.10783046, 6.16823971,\n",
      "       6.22864896, 6.28905822, 6.34946747, 6.40987672, 6.47028597,\n",
      "       6.53069522, 6.59110448, 6.65151373, 6.71192298, 6.77233223,\n",
      "       6.83274148, 6.89315074, 6.95355999, 7.01396924, 7.07437849,\n",
      "       7.13478774, 7.195197  , 7.25560625, 7.3160155 , 7.37642475,\n",
      "       7.436834  , 7.49724326, 7.55765251, 7.61806176, 7.67847101,\n",
      "       7.73888026, 7.79928952, 7.85969877, 7.92010802, 7.98051727])]}\n",
      "{'pdf_vals': array([[0.00000000e+00, 0.00000000e+00, 0.00000000e+00, ...,\n",
      "        0.00000000e+00, 0.00000000e+00, 0.00000000e+00],\n",
      "       [0.00000000e+00, 0.00000000e+00, 0.00000000e+00, ...,\n",
      "        0.00000000e+00, 0.00000000e+00, 0.00000000e+00],\n",
      "       [0.00000000e+00, 0.00000000e+00, 0.00000000e+00, ...,\n",
      "        2.72606563e-05, 3.45825213e-05, 3.99843903e-05],\n",
      "       ...,\n",
      "       [0.00000000e+00, 0.00000000e+00, 0.00000000e+00, ...,\n",
      "        0.00000000e+00, 0.00000000e+00, 0.00000000e+00],\n",
      "       [0.00000000e+00, 0.00000000e+00, 0.00000000e+00, ...,\n",
      "        0.00000000e+00, 0.00000000e+00, 0.00000000e+00],\n",
      "       [0.00000000e+00, 0.00000000e+00, 0.00000000e+00, ...,\n",
      "        0.00000000e+00, 0.00000000e+00, 0.00000000e+00]]), 'bw': [array([0.05], dtype=float32), array([0.11], dtype=float32)], 'coords': array([[-3.09966765,  2.00000132],\n",
      "       [-3.09966765,  2.06041058],\n",
      "       [-3.09966765,  2.12081983],\n",
      "       ...,\n",
      "       [ 1.14384474,  7.85969877],\n",
      "       [ 1.14384474,  7.92010802],\n",
      "       [ 1.14384474,  7.98051727]]), 'vars': ['sigma_pull_corrected', 'log_e'], 'bins': [array([-3.09966765, -3.05680389, -3.01394013, -2.97107637, -2.92821261,\n",
      "       -2.88534884, -2.84248508, -2.79962132, -2.75675756, -2.7138938 ,\n",
      "       -2.67103004, -2.62816628, -2.58530251, -2.54243875, -2.49957499,\n",
      "       -2.45671123, -2.41384747, -2.37098371, -2.32811994, -2.28525618,\n",
      "       -2.24239242, -2.19952866, -2.1566649 , -2.11380114, -2.07093738,\n",
      "       -2.02807361, -1.98520985, -1.94234609, -1.89948233, -1.85661857,\n",
      "       -1.81375481, -1.77089104, -1.72802728, -1.68516352, -1.64229976,\n",
      "       -1.599436  , -1.55657224, -1.51370848, -1.47084471, -1.42798095,\n",
      "       -1.38511719, -1.34225343, -1.29938967, -1.25652591, -1.21366214,\n",
      "       -1.17079838, -1.12793462, -1.08507086, -1.0422071 , -0.99934334,\n",
      "       -0.95647958, -0.91361581, -0.87075205, -0.82788829, -0.78502453,\n",
      "       -0.74216077, -0.69929701, -0.65643325, -0.61356948, -0.57070572,\n",
      "       -0.52784196, -0.4849782 , -0.44211444, -0.39925068, -0.35638691,\n",
      "       -0.31352315, -0.27065939, -0.22779563, -0.18493187, -0.14206811,\n",
      "       -0.09920435, -0.05634058, -0.01347682,  0.02938694,  0.0722507 ,\n",
      "        0.11511446,  0.15797822,  0.20084199,  0.24370575,  0.28656951,\n",
      "        0.32943327,  0.37229703,  0.41516079,  0.45802455,  0.50088832,\n",
      "        0.54375208,  0.58661584,  0.6294796 ,  0.67234336,  0.71520712,\n",
      "        0.75807089,  0.80093465,  0.84379841,  0.88666217,  0.92952593,\n",
      "        0.97238969,  1.01525345,  1.05811722,  1.10098098,  1.14384474]), array([2.00000132, 2.06041058, 2.12081983, 2.18122908, 2.24163833,\n",
      "       2.30204758, 2.36245684, 2.42286609, 2.48327534, 2.54368459,\n",
      "       2.60409384, 2.6645031 , 2.72491235, 2.7853216 , 2.84573085,\n",
      "       2.9061401 , 2.96654936, 3.02695861, 3.08736786, 3.14777711,\n",
      "       3.20818636, 3.26859562, 3.32900487, 3.38941412, 3.44982337,\n",
      "       3.51023262, 3.57064188, 3.63105113, 3.69146038, 3.75186963,\n",
      "       3.81227888, 3.87268814, 3.93309739, 3.99350664, 4.05391589,\n",
      "       4.11432514, 4.1747344 , 4.23514365, 4.2955529 , 4.35596215,\n",
      "       4.4163714 , 4.47678066, 4.53718991, 4.59759916, 4.65800841,\n",
      "       4.71841766, 4.77882692, 4.83923617, 4.89964542, 4.96005467,\n",
      "       5.02046392, 5.08087318, 5.14128243, 5.20169168, 5.26210093,\n",
      "       5.32251018, 5.38291944, 5.44332869, 5.50373794, 5.56414719,\n",
      "       5.62455644, 5.6849657 , 5.74537495, 5.8057842 , 5.86619345,\n",
      "       5.9266027 , 5.98701196, 6.04742121, 6.10783046, 6.16823971,\n",
      "       6.22864896, 6.28905822, 6.34946747, 6.40987672, 6.47028597,\n",
      "       6.53069522, 6.59110448, 6.65151373, 6.71192298, 6.77233223,\n",
      "       6.83274148, 6.89315074, 6.95355999, 7.01396924, 7.07437849,\n",
      "       7.13478774, 7.195197  , 7.25560625, 7.3160155 , 7.37642475,\n",
      "       7.436834  , 7.49724326, 7.55765251, 7.61806176, 7.67847101,\n",
      "       7.73888026, 7.79928952, 7.85969877, 7.92010802, 7.98051727])]}\n"
     ]
    }
   ],
   "source": [
    "import cPickle as pickle\n",
    "\n",
    "with open('/home/ge56lag/Software/KDE/output/sig_E/pdf/sig_E.pkl', 'rb') as f:\n",
    "            sig_E = pickle.load(f)\n",
    "with open('/home/ge56lag/Software/KDE/output/sig_E/old/pdf/sig_E.pkl', 'rb') as f:\n",
    "            sig_E_old = pickle.load(f)\n",
    "        \n",
    "print(sig_E)\n",
    "print(sig_E_old)"
   ]
  },
  {
   "cell_type": "code",
   "execution_count": 13,
   "metadata": {},
   "outputs": [
    {
     "name": "stdout",
     "output_type": "stream",
     "text": [
      "[(0.1, 0.17, -1.3308442, 0.)]\n",
      "[(0.05, 0.11, -1.3320591, 0.)]\n"
     ]
    }
   ],
   "source": [
    "result = kde.cross_validate([0.1, 0.17], adaptive=True, pdf_seed=None)\n",
    "print(result)\n",
    "\n",
    "result = kde.cross_validate([0.05, 0.11], adaptive=True, pdf_seed=None)\n",
    "print(result)"
   ]
  },
  {
   "cell_type": "code",
   "execution_count": null,
   "metadata": {},
   "outputs": [],
   "source": []
  },
  {
   "cell_type": "code",
   "execution_count": 4,
   "metadata": {},
   "outputs": [],
   "source": [
    "import cPickle as pickle\n",
    "\n",
    "with open('/home/ge56lag/Software/KDE/output/sig_E/pdf/sig_E.pkl', 'rb') as f:\n",
    "            sig_E = pickle.load(f)\n",
    "with open('/home/ge56lag/Software/KDE/output/sig_psi_E/pdf/sig_psi_E.pkl', 'rb') as f:\n",
    "            sig_psi_E = pickle.load(f)"
   ]
  },
  {
   "cell_type": "code",
   "execution_count": 5,
   "metadata": {
    "scrolled": true
   },
   "outputs": [
    {
     "name": "stdout",
     "output_type": "stream",
     "text": [
      "([array([0.05], dtype=float32), array([0.11], dtype=float32)], [array([0.11], dtype=float32), array([0.22], dtype=float32), array([0.25], dtype=float32)])\n"
     ]
    }
   ],
   "source": [
    "print(sig_E['bw'], sig_psi_E['bw'])"
   ]
  },
  {
   "cell_type": "code",
   "execution_count": null,
   "metadata": {},
   "outputs": [],
   "source": []
  },
  {
   "cell_type": "code",
   "execution_count": null,
   "metadata": {
    "scrolled": true
   },
   "outputs": [],
   "source": [
    "plt.figure()\n",
    "\n",
    "plt.pcolormesh(X, Y, sig_psi_E['pdf_vals'][:, :, 50])"
   ]
  },
  {
   "cell_type": "code",
   "execution_count": null,
   "metadata": {
    "scrolled": false
   },
   "outputs": [],
   "source": [
    "fig = plt.figure(figsize=(8, 8))\n",
    "ax = fig.add_subplot(111, projection='3d')\n",
    "ax.plot_surface(X, Y, sig_psi_E['pdf_vals'][:, :, 10])\n",
    "ax.set_xlabel('x')\n",
    "ax.set_ylabel('y')"
   ]
  },
  {
   "cell_type": "code",
   "execution_count": null,
   "metadata": {},
   "outputs": [],
   "source": []
  },
  {
   "cell_type": "code",
   "execution_count": null,
   "metadata": {},
   "outputs": [],
   "source": []
  },
  {
   "cell_type": "code",
   "execution_count": null,
   "metadata": {},
   "outputs": [],
   "source": [
    "bg['pdf_vals'][:, :, 0].shape"
   ]
  },
  {
   "cell_type": "code",
   "execution_count": null,
   "metadata": {},
   "outputs": [],
   "source": [
    "eval(str(\"[2, 3]\"))"
   ]
  },
  {
   "cell_type": "code",
   "execution_count": null,
   "metadata": {},
   "outputs": [],
   "source": [
    "model.mc['sigma_pull_corrected']"
   ]
  },
  {
   "cell_type": "code",
   "execution_count": null,
   "metadata": {},
   "outputs": [],
   "source": [
    "model.mc.dtype.names"
   ]
  },
  {
   "cell_type": "code",
   "execution_count": null,
   "metadata": {},
   "outputs": [],
   "source": [
    "from dataset import load_and_prepare_data\n",
    "\n",
    "mc = np.load('/home/ge56lag/Data/diffuse_mc_wBDT.npy')"
   ]
  },
  {
   "cell_type": "code",
   "execution_count": null,
   "metadata": {},
   "outputs": [],
   "source": [
    "mc['sigma_pull_corrected_mu']"
   ]
  },
  {
   "cell_type": "code",
   "execution_count": null,
   "metadata": {},
   "outputs": [],
   "source": [
    "mc.dtype.names"
   ]
  },
  {
   "cell_type": "code",
   "execution_count": null,
   "metadata": {},
   "outputs": [],
   "source": [
    "mc = np.load('/home/ge56lag/Data/dataset_8yr_fit_IC86_2012_16_MC_2017_09_29_more_fields.npy')"
   ]
  },
  {
   "cell_type": "code",
   "execution_count": null,
   "metadata": {},
   "outputs": [],
   "source": [
    "mc.dtype.names"
   ]
  },
  {
   "cell_type": "code",
   "execution_count": null,
   "metadata": {},
   "outputs": [],
   "source": []
  },
  {
   "cell_type": "code",
   "execution_count": null,
   "metadata": {},
   "outputs": [],
   "source": []
  },
  {
   "cell_type": "code",
   "execution_count": null,
   "metadata": {},
   "outputs": [],
   "source": [
    "cv = np.load('output/bg/cv/cv_0.npy')"
   ]
  },
  {
   "cell_type": "code",
   "execution_count": null,
   "metadata": {},
   "outputs": [],
   "source": [
    "cv"
   ]
  },
  {
   "cell_type": "code",
   "execution_count": null,
   "metadata": {},
   "outputs": [],
   "source": []
  }
 ],
 "metadata": {
  "kernelspec": {
   "display_name": "Python 2",
   "language": "python",
   "name": "python2"
  },
  "language_info": {
   "codemirror_mode": {
    "name": "ipython",
    "version": 2
   },
   "file_extension": ".py",
   "mimetype": "text/x-python",
   "name": "python",
   "nbconvert_exporter": "python",
   "pygments_lexer": "ipython2",
   "version": "2.7.5"
  }
 },
 "nbformat": 4,
 "nbformat_minor": 2
}
