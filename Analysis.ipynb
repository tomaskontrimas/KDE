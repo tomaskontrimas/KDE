{
 "cells": [
  {
   "cell_type": "code",
   "execution_count": 1,
   "metadata": {},
   "outputs": [
    {
     "name": "stdout",
     "output_type": "stream",
     "text": [
      "Welcome to JupyROOT 6.14/04\n"
     ]
    }
   ],
   "source": [
    "#%matplotlib inline\n",
    "%matplotlib notebook\n",
    "import numpy as np\n",
    "import itertools\n",
    "import logging\n",
    "\n",
    "import matplotlib.pyplot as plt\n",
    "from mpl_toolkits.mplot3d import axes3d\n",
    "\n",
    "from config import CFG\n",
    "from kde_classes import Model, KDE\n",
    "\n",
    "# Logging setup utilities\n",
    "from debugging import (\n",
    "    setup_logger,\n",
    "    setup_console_handler\n",
    ")"
   ]
  },
  {
   "cell_type": "code",
   "execution_count": 3,
   "metadata": {},
   "outputs": [],
   "source": [
    "setup_logger('KDE', logging.DEBUG)\n",
    "setup_console_handler('KDE', logging.DEBUG)"
   ]
  },
  {
   "cell_type": "code",
   "execution_count": null,
   "metadata": {
    "scrolled": false
   },
   "outputs": [],
   "source": [
    "#mc = np.load(CFG['paths']['mg_mc'])\n",
    "model = Model('dec', mc=None, weighting=None)"
   ]
  },
  {
   "cell_type": "code",
   "execution_count": null,
   "metadata": {
    "scrolled": false
   },
   "outputs": [],
   "source": [
    "kde = KDE(model)"
   ]
  },
  {
   "cell_type": "code",
   "execution_count": null,
   "metadata": {},
   "outputs": [],
   "source": [
    "# out_bins = []\n",
    "# for i, key in enumerate(self.model.vars):\n",
    "#     out_bins.append(np.linspace(self.model.ranges[i][0],\n",
    "#                             self.model.ranges[i][1],\n",
    "#                             self.model.nbins[i]))\n",
    "coords = np.array([(-2, 30)]) #np.array(list(itertools.product(*out_bins)))\n",
    "training_pdf_vals = np.asarray(\n",
    "    [kde.eval_point(binned_kernel_density, coord) for coord in coords])\n",
    "#training_pdf_vals = training_pdf_vals.reshape(self.model.nbins)"
   ]
  },
  {
   "cell_type": "code",
   "execution_count": null,
   "metadata": {},
   "outputs": [],
   "source": [
    "training_pdf_vals"
   ]
  },
  {
   "cell_type": "code",
   "execution_count": null,
   "metadata": {},
   "outputs": [],
   "source": []
  },
  {
   "cell_type": "code",
   "execution_count": null,
   "metadata": {},
   "outputs": [],
   "source": [
    "adaptive = True\n",
    "weighting = 'plotter_wkde'\n",
    "gamma = 2.0\n",
    "phi0 = 1.01\n",
    "\n",
    "parameters_dir_format = '{kd}_{weighting}_gamma_{gamma}_phi0_{phi0}'\n",
    "parameters_dir = parameters_dir_format.format(kd='adaptive_kd' if adaptive else\n",
    "    'binned_kd', weighting=weighting, gamma=gamma, phi0=phi0)"
   ]
  },
  {
   "cell_type": "code",
   "execution_count": null,
   "metadata": {},
   "outputs": [],
   "source": [
    "print(parameters_dir)"
   ]
  },
  {
   "cell_type": "code",
   "execution_count": null,
   "metadata": {},
   "outputs": [],
   "source": [
    "test_l = 'a'"
   ]
  },
  {
   "cell_type": "code",
   "execution_count": null,
   "metadata": {},
   "outputs": [],
   "source": [
    "test = list(test_l)"
   ]
  },
  {
   "cell_type": "code",
   "execution_count": null,
   "metadata": {},
   "outputs": [],
   "source": [
    "test"
   ]
  },
  {
   "cell_type": "code",
   "execution_count": null,
   "metadata": {},
   "outputs": [],
   "source": []
  },
  {
   "cell_type": "code",
   "execution_count": null,
   "metadata": {},
   "outputs": [],
   "source": []
  },
  {
   "cell_type": "code",
   "execution_count": null,
   "metadata": {
    "scrolled": true
   },
   "outputs": [],
   "source": [
    "result = kde.cross_validate_split([0.05, 0.11], 0, adaptive=True, pdf_seed=None)\n",
    "print(result)"
   ]
  },
  {
   "cell_type": "code",
   "execution_count": null,
   "metadata": {},
   "outputs": [],
   "source": [
    "result['bandwidth'][0]"
   ]
  },
  {
   "cell_type": "code",
   "execution_count": null,
   "metadata": {},
   "outputs": [],
   "source": []
  },
  {
   "cell_type": "code",
   "execution_count": null,
   "metadata": {},
   "outputs": [],
   "source": [
    "for n_split in range(CFG['project']['n_splits']):\n",
    "    result = kde.cross_validate_split([0.10], n_split, adaptive=True, pdf_seed=None)\n",
    "    np.save(\"output/dec/temp/cv_1_{n_split}.npy\".format(n_split=n_split), result)"
   ]
  },
  {
   "cell_type": "code",
   "execution_count": null,
   "metadata": {},
   "outputs": [],
   "source": [
    "pdf_seed = kde.generate_binned_kd([0.05, 0.11])"
   ]
  },
  {
   "cell_type": "code",
   "execution_count": null,
   "metadata": {},
   "outputs": [],
   "source": [
    "result = kde.cross_validate([0.05, 0.11], adaptive=True, pdf_seed=pdf_seed)\n",
    "print(result)"
   ]
  },
  {
   "cell_type": "code",
   "execution_count": null,
   "metadata": {},
   "outputs": [],
   "source": [
    "kde.model.approx_pdf = pdf_seed\n",
    "result = kde.cross_validate([0.05, 0.11], adaptive=True, pdf_seed=None)\n",
    "print(result)"
   ]
  },
  {
   "cell_type": "code",
   "execution_count": null,
   "metadata": {},
   "outputs": [],
   "source": [
    "out_bins = []\n",
    "for i, key in enumerate(model.vars):\n",
    "    out_bins.append(np.linspace(model.ranges[i][0],\n",
    "                                model.ranges[i][1],\n",
    "                                model.nbins[i]))\n",
    "coords = np.array(list(itertools.product(*out_bins)))\n",
    "X, Y = np.meshgrid(*out_bins, indexing='ij')"
   ]
  },
  {
   "cell_type": "code",
   "execution_count": null,
   "metadata": {},
   "outputs": [],
   "source": [
    "binned_kernel_density = kde.generate_binned_kd([0.06, 0.1])"
   ]
  },
  {
   "cell_type": "code",
   "execution_count": null,
   "metadata": {},
   "outputs": [],
   "source": [
    "pdf_vals = np.asarray([kde.eval_point(binned_kernel_density, coord) for coord in coords])\n",
    "pdf_vals = pdf_vals.reshape(model.nbins)"
   ]
  },
  {
   "cell_type": "code",
   "execution_count": null,
   "metadata": {},
   "outputs": [],
   "source": [
    "plt.figure(figsize=(8, 8))\n",
    "\n",
    "plt.pcolormesh(X, Y, pdf_vals)"
   ]
  },
  {
   "cell_type": "code",
   "execution_count": null,
   "metadata": {},
   "outputs": [],
   "source": [
    "fig = plt.figure(figsize=(8, 8))\n",
    "ax = fig.add_subplot(111, projection='3d')\n",
    "ax.plot_surface(X, Y, pdf_vals)\n",
    "ax.set_xlabel('x, $\\sigma=1$')\n",
    "ax.set_ylabel('y, $\\sigma=2$')"
   ]
  },
  {
   "cell_type": "markdown",
   "metadata": {},
   "source": [
    "Generate adaptive kde"
   ]
  },
  {
   "cell_type": "code",
   "execution_count": null,
   "metadata": {
    "scrolled": false
   },
   "outputs": [],
   "source": [
    "adaptive_kernel_density = kde.generate_adaptive_kd([0.5, 0.6])"
   ]
  },
  {
   "cell_type": "code",
   "execution_count": null,
   "metadata": {},
   "outputs": [],
   "source": [
    "adaptive_pdf_vals = np.asarray([kde.eval_point(adaptive_kernel_density, coord) for coord in coords])\n",
    "adaptive_pdf_vals = adaptive_pdf_vals.reshape(model.nbins)"
   ]
  },
  {
   "cell_type": "code",
   "execution_count": null,
   "metadata": {},
   "outputs": [],
   "source": [
    "fig = plt.figure(figsize=(8, 8))\n",
    "ax = fig.add_subplot(111, projection='3d')\n",
    "ax.plot_surface(X, Y, adaptive_pdf_vals)\n",
    "ax.set_xlabel('x, $\\sigma=1$')\n",
    "ax.set_ylabel('y, $\\sigma=2$')"
   ]
  },
  {
   "cell_type": "markdown",
   "metadata": {},
   "source": [
    "Plot mc data"
   ]
  },
  {
   "cell_type": "code",
   "execution_count": null,
   "metadata": {},
   "outputs": [],
   "source": [
    "from dataset import load_and_prepare_data\n",
    "\n",
    "mc = load_and_prepare_data(CFG['paths']['IC_mc'])\n",
    "\n",
    "fig = plt.figure(figsize=(8, 8))\n",
    "ax = fig.add_subplot(111)\n",
    "#h = ax.hist2d(mc['x'], mc['y'], bins=[100, 100], range=[[-5, 5], [-5, 5]])\n",
    "h = ax.hist2d(np.log10(mc['sigma_pull_corrected']), mc['logE'], bins=[200, 100])\n",
    "fig.colorbar(h[3], ax=ax)"
   ]
  },
  {
   "cell_type": "code",
   "execution_count": null,
   "metadata": {},
   "outputs": [],
   "source": []
  },
  {
   "cell_type": "code",
   "execution_count": null,
   "metadata": {
    "scrolled": true
   },
   "outputs": [],
   "source": [
    "cv_result = kde.cross_validate([0.5, 0.5], adaptive=False)"
   ]
  },
  {
   "cell_type": "code",
   "execution_count": null,
   "metadata": {},
   "outputs": [],
   "source": [
    "cv_result"
   ]
  },
  {
   "cell_type": "code",
   "execution_count": null,
   "metadata": {},
   "outputs": [],
   "source": [
    "result = kde.cross_validate_bandwidths(bandwidths=[[0.5, 0.6], [0.6]], adaptive=True)"
   ]
  },
  {
   "cell_type": "code",
   "execution_count": null,
   "metadata": {},
   "outputs": [],
   "source": [
    "result"
   ]
  },
  {
   "cell_type": "code",
   "execution_count": null,
   "metadata": {},
   "outputs": [],
   "source": [
    "result[result['LLH'] == np.max(result['LLH'])]"
   ]
  },
  {
   "cell_type": "code",
   "execution_count": null,
   "metadata": {},
   "outputs": [],
   "source": []
  },
  {
   "cell_type": "code",
   "execution_count": null,
   "metadata": {},
   "outputs": [],
   "source": [
    "import timeit\n",
    "timeit.timeit(stmt='kde.generate_adaptive_kd([0.4, 0.4])',\n",
    "              setup='from kde_classes import Model, KDE; model = Model(\"sig_E\", mc=None, weighting=\"ploter_wkde\"); kde = KDE(model)',\n",
    "              number=1)"
   ]
  },
  {
   "cell_type": "markdown",
   "metadata": {},
   "source": [
    "Using approx_pdf: 52.749691009521484; 52.35630702972412\n",
    "\n",
    "Using flat approx_pdf: 52.84272503852844"
   ]
  },
  {
   "cell_type": "code",
   "execution_count": null,
   "metadata": {},
   "outputs": [],
   "source": []
  },
  {
   "cell_type": "code",
   "execution_count": null,
   "metadata": {},
   "outputs": [],
   "source": []
  },
  {
   "cell_type": "code",
   "execution_count": null,
   "metadata": {},
   "outputs": [],
   "source": [
    "import glob\n",
    "import numpy as np\n",
    "\n",
    "from config import CFG\n",
    "from dataset import load_and_prepare_data\n",
    "from kde_classes import Model, KDE\n",
    "\n",
    "mc = np.load(CFG['paths']['mg_mc'])\n",
    "\n",
    "model = Model('multi_gaussian', mc, weighting=None)\n",
    "kde = KDE(model)\n",
    "\n",
    "cv_files = glob.glob('output/multi_gaussian/cv_*.npy')\n",
    "cv_results = np.array([], dtype=kde.cv_result.dtype)\n",
    "\n",
    "print(kde.cv_result.dtype)\n",
    "for cv_file in cv_files:\n",
    "    cv_result = np.loadtxt(cv_file, dtype=kde.cv_result.dtype)\n",
    "    cv_results = np.append(cv_results, re)\n",
    "\n",
    "print(cv_results)"
   ]
  },
  {
   "cell_type": "code",
   "execution_count": null,
   "metadata": {},
   "outputs": [],
   "source": [
    "f = np.load('output/sig_psi_E/cv/cv_31.npy')\n",
    "f.dtype"
   ]
  },
  {
   "cell_type": "markdown",
   "metadata": {},
   "source": [
    "## Compare cv files"
   ]
  },
  {
   "cell_type": "code",
   "execution_count": null,
   "metadata": {},
   "outputs": [],
   "source": [
    "import glob\n",
    "import numpy as np\n",
    "\n",
    "from kde_classes import Model, KDE\n",
    "\n",
    "model = Model('sig_E', mc=None, weighting='ploter_wkde')\n",
    "kde = KDE(model)\n",
    "\n",
    "cv_files = glob.glob('output/sig_E/cv/cv_*.npy')\n",
    "cv_results = np.array([], dtype=kde.cv_result.dtype)\n",
    "\n",
    "for cv_file in cv_files:\n",
    "    cv_result = np.load(cv_file)\n",
    "    cv_results = np.append(cv_results, cv_result)\n",
    "\n",
    "result_max_LLH = cv_results[cv_results['LLH'] == np.max(cv_results['LLH'])]\n",
    "\n",
    "bandwidth = [result_max_LLH[key] for key in model.bandwidth_vars]"
   ]
  },
  {
   "cell_type": "code",
   "execution_count": null,
   "metadata": {},
   "outputs": [],
   "source": [
    "cv_results.dtype"
   ]
  },
  {
   "cell_type": "code",
   "execution_count": null,
   "metadata": {},
   "outputs": [],
   "source": [
    "fig = plt.figure()\n",
    "ax = fig.add_subplot(111, projection='3d')\n",
    "ax.scatter(cv_results['sigma_pull_corrected_bandwidth'], cv_results['log_e_bandwidth'],\n",
    "           cv_results['LLH'], c=cv_results['LLH'], cmap='viridis')"
   ]
  },
  {
   "cell_type": "code",
   "execution_count": null,
   "metadata": {},
   "outputs": [],
   "source": [
    "# New\n",
    "print(result_max_LLH)\n",
    "print(bandwidth)\n",
    "print(cv_results)"
   ]
  },
  {
   "cell_type": "code",
   "execution_count": null,
   "metadata": {},
   "outputs": [],
   "source": [
    "print(result_max_LLH)\n",
    "print(bandwidth)"
   ]
  },
  {
   "cell_type": "markdown",
   "metadata": {},
   "source": [
    "## Comparison of old vs new cv"
   ]
  },
  {
   "cell_type": "code",
   "execution_count": null,
   "metadata": {},
   "outputs": [],
   "source": [
    "import cPickle as pickle\n",
    "\n",
    "with open('/home/ge56lag/Software/KDE/output/sig_psi_E/pdf/sig_psi_E.pkl', 'rb') as f:\n",
    "            sig_E = pickle.load(f)\n",
    "with open('/home/ge56lag/Software/KDE/output/sig_psi_E/old/pdf/sig_psi_E.pkl', 'rb') as f:\n",
    "            sig_E_old = pickle.load(f)\n",
    "        \n",
    "print(sig_E['bw'])\n",
    "print(sig_E_old['bw'])"
   ]
  },
  {
   "cell_type": "code",
   "execution_count": null,
   "metadata": {},
   "outputs": [],
   "source": [
    "result = kde.cross_validate([0.1, 0.17], adaptive=True, pdf_seed=None)\n",
    "print(result)\n",
    "\n",
    "result = kde.cross_validate([0.05, 0.11], adaptive=True, pdf_seed=None)\n",
    "print(result)"
   ]
  },
  {
   "cell_type": "code",
   "execution_count": null,
   "metadata": {},
   "outputs": [],
   "source": []
  },
  {
   "cell_type": "code",
   "execution_count": null,
   "metadata": {},
   "outputs": [],
   "source": [
    "import cPickle as pickle\n",
    "\n",
    "with open('/home/ge56lag/Software/KDE/output/sig_E/pdf/sig_E.pkl', 'rb') as f:\n",
    "            sig_E = pickle.load(f)\n",
    "with open('/home/ge56lag/Software/KDE/output/sig_psi_E/pdf/sig_psi_E.pkl', 'rb') as f:\n",
    "            sig_psi_E = pickle.load(f)"
   ]
  },
  {
   "cell_type": "code",
   "execution_count": null,
   "metadata": {
    "scrolled": true
   },
   "outputs": [],
   "source": [
    "print(sig_E['bw'], sig_psi_E['bw'])"
   ]
  },
  {
   "cell_type": "code",
   "execution_count": null,
   "metadata": {},
   "outputs": [],
   "source": []
  },
  {
   "cell_type": "code",
   "execution_count": null,
   "metadata": {
    "scrolled": true
   },
   "outputs": [],
   "source": [
    "plt.figure()\n",
    "\n",
    "plt.pcolormesh(X, Y, sig_psi_E['pdf_vals'][:, :, 50])"
   ]
  },
  {
   "cell_type": "code",
   "execution_count": null,
   "metadata": {
    "scrolled": false
   },
   "outputs": [],
   "source": [
    "fig = plt.figure(figsize=(8, 8))\n",
    "ax = fig.add_subplot(111, projection='3d')\n",
    "ax.plot_surface(X, Y, sig_psi_E['pdf_vals'][:, :, 10])\n",
    "ax.set_xlabel('x')\n",
    "ax.set_ylabel('y')"
   ]
  },
  {
   "cell_type": "code",
   "execution_count": null,
   "metadata": {},
   "outputs": [],
   "source": []
  },
  {
   "cell_type": "code",
   "execution_count": null,
   "metadata": {},
   "outputs": [],
   "source": []
  },
  {
   "cell_type": "code",
   "execution_count": null,
   "metadata": {},
   "outputs": [],
   "source": [
    "bg['pdf_vals'][:, :, 0].shape"
   ]
  },
  {
   "cell_type": "code",
   "execution_count": null,
   "metadata": {},
   "outputs": [],
   "source": [
    "eval(str(\"[2, 3]\"))"
   ]
  },
  {
   "cell_type": "code",
   "execution_count": null,
   "metadata": {},
   "outputs": [],
   "source": [
    "model.mc['sigma_pull_corrected']"
   ]
  },
  {
   "cell_type": "code",
   "execution_count": null,
   "metadata": {},
   "outputs": [],
   "source": [
    "model.mc.dtype.names"
   ]
  },
  {
   "cell_type": "code",
   "execution_count": null,
   "metadata": {},
   "outputs": [],
   "source": [
    "from dataset import load_and_prepare_data\n",
    "\n",
    "mc = np.load('/home/ge56lag/Data/diffuse_mc_wBDT.npy')"
   ]
  },
  {
   "cell_type": "code",
   "execution_count": null,
   "metadata": {},
   "outputs": [],
   "source": [
    "mc['sigma_pull_corrected_mu']"
   ]
  },
  {
   "cell_type": "code",
   "execution_count": null,
   "metadata": {},
   "outputs": [],
   "source": [
    "mc.dtype.names"
   ]
  },
  {
   "cell_type": "code",
   "execution_count": 2,
   "metadata": {},
   "outputs": [],
   "source": [
    "mc = np.load('/home/ge56lag/Data/diffuse_northern_tracks_MC_KDE/version-001-p00/dataset_8yr_fit_IC86_2012_16_MC_2017_09_29_more_fields.npy')"
   ]
  },
  {
   "cell_type": "code",
   "execution_count": 3,
   "metadata": {},
   "outputs": [
    {
     "data": {
      "text/plain": [
       "('Run',\n",
       " 'Event',\n",
       " 'SubEvent',\n",
       " 'MJD_day',\n",
       " 'MJD_sec',\n",
       " 'MJD_ns',\n",
       " 'azimuth_MPEFit',\n",
       " 'zenith_MPEFit',\n",
       " 'zenith_MPEFit_exists',\n",
       " 'zenith_MPEFit_fit_status',\n",
       " 'energy_truncated',\n",
       " 'energy_truncated_exists',\n",
       " 'azimuth_ReReco',\n",
       " 'zenith_ReReco',\n",
       " 'zenith_ReReco_exists',\n",
       " 'zenith_ReReco_fit_status',\n",
       " 'sigma1',\n",
       " 'sigma2',\n",
       " 'sigmaOK',\n",
       " 'trueAzi',\n",
       " 'trueZen',\n",
       " 'trueE',\n",
       " 'trueType',\n",
       " 'energy_truncated_fit_status',\n",
       " 'nChannel',\n",
       " 'orig_OW',\n",
       " 'powerlaw',\n",
       " 'azi',\n",
       " 'zen',\n",
       " 'mjd',\n",
       " 'ra',\n",
       " 'dec',\n",
       " 'logE',\n",
       " 'sigma',\n",
       " 'trueRa',\n",
       " 'trueDec',\n",
       " 'conv',\n",
       " 'prompt',\n",
       " 'astro',\n",
       " 'best_fit_OW',\n",
       " 'sigma_pull_corrected',\n",
       " 'psi',\n",
       " 'logEt')"
      ]
     },
     "execution_count": 3,
     "metadata": {},
     "output_type": "execute_result"
    }
   ],
   "source": [
    "mc.dtype.names"
   ]
  },
  {
   "cell_type": "code",
   "execution_count": null,
   "metadata": {},
   "outputs": [],
   "source": []
  },
  {
   "cell_type": "code",
   "execution_count": null,
   "metadata": {},
   "outputs": [],
   "source": []
  },
  {
   "cell_type": "code",
   "execution_count": null,
   "metadata": {},
   "outputs": [],
   "source": [
    "cv = np.load('output/bg/cv/cv_0.npy')"
   ]
  },
  {
   "cell_type": "code",
   "execution_count": null,
   "metadata": {},
   "outputs": [],
   "source": [
    "cv"
   ]
  },
  {
   "cell_type": "code",
   "execution_count": null,
   "metadata": {},
   "outputs": [],
   "source": []
  }
 ],
 "metadata": {
  "kernelspec": {
   "display_name": "Python 2",
   "language": "python",
   "name": "python2"
  },
  "language_info": {
   "codemirror_mode": {
    "name": "ipython",
    "version": 2
   },
   "file_extension": ".py",
   "mimetype": "text/x-python",
   "name": "python",
   "nbconvert_exporter": "python",
   "pygments_lexer": "ipython2",
   "version": "2.7.5"
  }
 },
 "nbformat": 4,
 "nbformat_minor": 2
}
