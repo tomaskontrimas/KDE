{
 "cells": [
  {
   "cell_type": "code",
   "execution_count": null,
   "metadata": {},
   "outputs": [],
   "source": [
    "import numpy as np\n",
    "\n",
    "import importlib"
   ]
  },
  {
   "cell_type": "code",
   "execution_count": null,
   "metadata": {},
   "outputs": [],
   "source": [
    "def diffuse_cuts(mc):\n",
    "    \"\"\"Applies diffuse dataset cuts on a given monte-carlo data.\n",
    "\n",
    "    Parameters\n",
    "    ----------\n",
    "    mc : str | numpy record ndarray\n",
    "        Monte-carlo data.\n",
    "\n",
    "    Returns\n",
    "    -------\n",
    "    mc_dc : numpy record ndarray\n",
    "        Monte-carlo data after diffuse dataset cuts.\n",
    "    \"\"\"\n",
    "    mc_dc = mc[(mc['trueDec'] > np.radians(-5)) &\n",
    "               (np.log10(mc['trueE']) < 8.0) &\n",
    "               (mc['sigmaOK'] == 0)]\n",
    "    return mc_dc"
   ]
  },
  {
   "cell_type": "code",
   "execution_count": null,
   "metadata": {
    "scrolled": true
   },
   "outputs": [],
   "source": [
    "plotter_wkde = importlib.import_module('plotter_wkde_2')\n",
    "\n",
    "#gammas = np.concatenate(([1.5], np.linspace(2.0, 3.0, 11)))\n",
    "gammas = [2.0]\n",
    "\n",
    "logE_list = [2.5]\n",
    "sigma_p_list = [0.5]\n",
    "\n",
    "base_path = '/home/ge56lag'\n",
    "\n",
    "mc = np.load('/{base_path}/Data/diffuse_northern_tracks_MC_KDE/version-001-p00/dataset_8yr_fit_IC86_2012_16_MC_2017_09_29_more_fields.npy'.format(base_path=base_path))\n",
    "\n",
    "for gamma in gammas:\n",
    "    spatial_KDE_path = '{}/Software/KDE/output/sig_psi_E/adaptive_kd_plotter_wkde_gamma_{}_phi0_1.0/pdf/sig_psi_E.pkl'.format(base_path, gamma)\n",
    "    norm_KDE_path = '{}/Software/KDE/output/sig_E/adaptive_kd_plotter_wkde_gamma_{}_phi0_1.0/pdf/sig_E.pkl'.format(base_path, gamma)\n",
    "\n",
    "    spatial_pdf = plotter_wkde.setup(base_path, spatial_KDE_path, norm_KDE_path)\n",
    "\n",
    "    for logE, sigma_p in zip(logE_list, sigma_p_list):\n",
    "        plotter_wkde.make_plot(spatial_pdf, mc, logE, sigma_p, gamma=gamma, delta_sigma=0.2, show_quantile=False, output_dir='output_Hans/RGI')"
   ]
  },
  {
   "cell_type": "markdown",
   "metadata": {},
   "source": [
    "### Hans part"
   ]
  },
  {
   "cell_type": "code",
   "execution_count": null,
   "metadata": {
    "scrolled": true
   },
   "outputs": [],
   "source": [
    "plotter_wkde = importlib.import_module('plotter_wkde_photospline')\n",
    "\n",
    "gammas = [1.5, 2.0, 2.5, 3.0]\n",
    "\n",
    "xpts = np.array([2.5 + i*0.5 for i in range(9)])\n",
    "ypts = np.array([1.4, 1.1, 0.9, 0.8, 0.7, 0.6, 0.5, 0.4, 0.4])\n",
    "tymin = 0.1\n",
    "\n",
    "base_path = '/home/ge56lag'\n",
    "output_dir = 'output_Hans/diffuse_cut/photospline'\n",
    "\n",
    "mc = np.load('/{base_path}/Data/diffuse_northern_tracks_MC_KDE/version-001-p00/dataset_8yr_fit_IC86_2012_16_MC_2017_09_29_more_fields.npy'.format(base_path=base_path))\n",
    "\n",
    "mc = diffuse_cuts(mc)\n",
    "\n",
    "for gamma in gammas:\n",
    "    spatial_KDE_path = '{}/Software/KDE/output/sig_psi_E/adaptive_kd_plotter_wkde_gamma_{}_phi0_1.0/pdf/sig_psi_E.pkl'.format(base_path, gamma)\n",
    "    norm_KDE_path = '{}/Software/KDE/output/sig_E/adaptive_kd_plotter_wkde_gamma_{}_phi0_1.0/pdf/sig_E.pkl'.format(base_path, gamma)\n",
    "\n",
    "    spatial_pdf = plotter_wkde.setup(base_path, spatial_KDE_path, norm_KDE_path)\n",
    "\n",
    "    for obj in zip(xpts, ypts):\n",
    "        logE, tymax = obj\n",
    "        for sigma_p in np.linspace(tymin, tymax, 10):\n",
    "            try:\n",
    "                plotter_wkde.make_plot(spatial_pdf, mc, logE, sigma_p, gamma=gamma, delta_sigma=0.2, show_quantile=False, output_dir=output_dir)\n",
    "            except ZeroDivisionError:\n",
    "                print(\"ZeroDivisionError for:\")\n",
    "                print(gamma, logE, sigma_p)"
   ]
  },
  {
   "cell_type": "code",
   "execution_count": null,
   "metadata": {},
   "outputs": [],
   "source": []
  }
 ],
 "metadata": {
  "kernelspec": {
   "display_name": "Python 2",
   "language": "python",
   "name": "python2"
  },
  "language_info": {
   "codemirror_mode": {
    "name": "ipython",
    "version": 2
   },
   "file_extension": ".py",
   "mimetype": "text/x-python",
   "name": "python",
   "nbconvert_exporter": "python",
   "pygments_lexer": "ipython2",
   "version": "2.7.5"
  }
 },
 "nbformat": 4,
 "nbformat_minor": 2
}
